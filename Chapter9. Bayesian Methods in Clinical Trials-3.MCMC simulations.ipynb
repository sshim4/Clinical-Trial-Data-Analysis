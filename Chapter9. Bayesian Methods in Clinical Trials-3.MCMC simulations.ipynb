{
 "cells": [
  {
   "cell_type": "code",
   "execution_count": 1,
   "id": "42baba17",
   "metadata": {},
   "outputs": [
    {
     "name": "stdout",
     "output_type": "stream",
     "text": [
      "Last updated  Sun Oct 16 12:18:26 2022"
     ]
    }
   ],
   "source": [
    "cat('Last updated ', date())"
   ]
  },
  {
   "cell_type": "markdown",
   "id": "5577705e",
   "metadata": {},
   "source": [
    "# Clinical Trial Data analysis using R and SAS\n",
    "### Author : Ding-Geng (Din) Chen , Karl E. Peace, Pinggao Zhang"
   ]
  },
  {
   "cell_type": "markdown",
   "id": "d721b2c2",
   "metadata": {},
   "source": [
    "* Note : This note book is created with R in Jupyter Notebook.\n",
    "* Note : I made this note book while studying the book. Additional R code in addition to the book is added if necessary such that a code is not provided or addntional explanation is needed.  For detail explanation, refer the book. "
   ]
  },
  {
   "cell_type": "code",
   "execution_count": 2,
   "id": "af4d9044",
   "metadata": {},
   "outputs": [
    {
     "data": {
      "text/plain": [
       "               _                           \n",
       "platform       x86_64-w64-mingw32          \n",
       "arch           x86_64                      \n",
       "os             mingw32                     \n",
       "system         x86_64, mingw32             \n",
       "status                                     \n",
       "major          4                           \n",
       "minor          1.3                         \n",
       "year           2022                        \n",
       "month          03                          \n",
       "day            10                          \n",
       "svn rev        81868                       \n",
       "language       R                           \n",
       "version.string R version 4.1.3 (2022-03-10)\n",
       "nickname       One Push-Up                 "
      ]
     },
     "metadata": {},
     "output_type": "display_data"
    }
   ],
   "source": [
    "R.version"
   ]
  },
  {
   "cell_type": "markdown",
   "id": "b039f6d0",
   "metadata": {},
   "source": [
    "## Chapter 9 Bayesian Methods in Clinical Trials"
   ]
  },
  {
   "cell_type": "markdown",
   "id": "09afb935",
   "metadata": {},
   "source": [
    "### 9.3 MCMC Simulations"
   ]
  },
  {
   "cell_type": "markdown",
   "id": "853fb5c8",
   "metadata": {},
   "source": [
    "#### 9.3.1 Normal-Normal Model"
   ]
  },
  {
   "cell_type": "markdown",
   "id": "8ad81225",
   "metadata": {},
   "source": [
    "Normal Distribution with Known Variance with $\\mu = 3$ and $\\sigma =2 $"
   ]
  },
  {
   "cell_type": "code",
   "execution_count": 29,
   "id": "018f6feb",
   "metadata": {},
   "outputs": [
    {
     "data": {
      "text/html": [
       "2.90579248793639"
      ],
      "text/latex": [
       "2.90579248793639"
      ],
      "text/markdown": [
       "2.90579248793639"
      ],
      "text/plain": [
       "[1] 2.905792"
      ]
     },
     "metadata": {},
     "output_type": "display_data"
    },
    {
     "data": {
      "text/html": [
       "3.84968498055034"
      ],
      "text/latex": [
       "3.84968498055034"
      ],
      "text/markdown": [
       "3.84968498055034"
      ],
      "text/plain": [
       "[1] 3.849685"
      ]
     },
     "metadata": {},
     "output_type": "display_data"
    }
   ],
   "source": [
    "set.seed(123)\n",
    "n <- 30\n",
    "sigma <- 2; mu <- 3\n",
    "y <- rnorm(n, mu, sigma)\n",
    "mean(y)\n",
    "var(y)"
   ]
  },
  {
   "cell_type": "markdown",
   "id": "cc07ce67",
   "metadata": {},
   "source": [
    "Suppose we know the prior distribuion is normal with mean $\\mu_0=2 $ and standard deviation $\\tau_0=0.5$. Then the posterior distribution is also normal with poserior mean $\\mu_p = \\omega\\bar{y} + (1-\\omega)\\theta_0$ and the posterior variance $\\sigma^2_p= \\frac{1}{\\frac{n}{\\sigma^2}+\\frac{1}{\\tau^2}}$, where $\\omega=\\frac{\\tau^2}{\\tau^2+\\frac{\\sigma^2}{n}}$"
   ]
  },
  {
   "cell_type": "markdown",
   "id": "758a6229",
   "metadata": {},
   "source": [
    "__Note: The conjugate prior__ <br>\n",
    "\n",
    "The conjugate prior is a prior distribution when combined with the likelihood leads to the same distribution. <br> In the normal case, the conjugate prior is $\\pi(\\theta) = N(\\theta_0, \\tau^2)$ where $\\theta_0$ and $\\tau^2$ are the prior mean and variance, which leads to the posterior normal distribution.\n",
    "$$p(\\theta|y) \\propto N(\\mu_p, \\sigma^2_p)$$\n",
    "Where \n",
    "* The posterior mean is $\\mu_p  = \\omega\\bar{y} + (1-\\omega)\\theta_0 $ and\n",
    "* The posterior variance is $\\sigma^2_p= \\frac{1}{\\frac{n}{\\sigma^2}+ \\frac{1}{\\tau^2}}$\n",
    "\n",
    "The posterior variance $\\sigma^2_p$ incorporates variance from both the data and the prior distribution. And it is less than $\\sigma^2/n$, representing a shrinkage to the posterior mean.\n"
   ]
  },
  {
   "cell_type": "code",
   "execution_count": 30,
   "id": "9a9073a7",
   "metadata": {},
   "outputs": [],
   "source": [
    "# the prior parameters\n",
    "mu0<-2 ; tau0 <- 5\n",
    "\n",
    "# the weight\n",
    "w <- tau0^2 / (tau0^2 + sigma^2 /n)\n",
    "\n",
    "# the posterior mean\n",
    "muP <- w*mean(y) + (1-w)*mu0\n",
    "\n",
    "# the posterior standard deviation\n",
    "sigmaP <- sqrt(1/(1/tau0*2 + n/sigma^2))\n",
    "\n",
    "# direct simulation of posterior normal\n",
    "Bayes1.norm2norm <- rnorm(10000, muP, sigmaP)"
   ]
  },
  {
   "cell_type": "markdown",
   "id": "c47e17db",
   "metadata": {},
   "source": [
    "We simulate 100,000 samles and name the resulting dataset in Bayes1.norm2norm."
   ]
  },
  {
   "cell_type": "code",
   "execution_count": 18,
   "id": "303ff4b4",
   "metadata": {},
   "outputs": [
    {
     "data": {
      "text/html": [
       "<style>\n",
       ".dl-inline {width: auto; margin:0; padding: 0}\n",
       ".dl-inline>dt, .dl-inline>dd {float: none; width: auto; display: inline-block}\n",
       ".dl-inline>dt::after {content: \":\\0020\"; padding-right: .5ex}\n",
       ".dl-inline>dt:not(:first-of-type) {padding-left: .5ex}\n",
       "</style><dl class=dl-inline><dt>2.5%</dt><dd>2.19750567803546</dd><dt>25%</dt><dd>2.66355298760731</dd><dt>50%</dt><dd>2.89692939464207</dd><dt>75%</dt><dd>3.14083154847283</dd><dt>97.5%</dt><dd>3.59607447823514</dd></dl>\n"
      ],
      "text/latex": [
       "\\begin{description*}\n",
       "\\item[2.5\\textbackslash{}\\%] 2.19750567803546\n",
       "\\item[25\\textbackslash{}\\%] 2.66355298760731\n",
       "\\item[50\\textbackslash{}\\%] 2.89692939464207\n",
       "\\item[75\\textbackslash{}\\%] 3.14083154847283\n",
       "\\item[97.5\\textbackslash{}\\%] 3.59607447823514\n",
       "\\end{description*}\n"
      ],
      "text/markdown": [
       "2.5%\n",
       ":   2.1975056780354625%\n",
       ":   2.6635529876073150%\n",
       ":   2.8969293946420775%\n",
       ":   3.1408315484728397.5%\n",
       ":   3.59607447823514\n",
       "\n"
      ],
      "text/plain": [
       "    2.5%      25%      50%      75%    97.5% \n",
       "2.197506 2.663553 2.896929 3.140832 3.596074 "
      ]
     },
     "metadata": {},
     "output_type": "display_data"
    }
   ],
   "source": [
    "quantile(Bayes1.norm2norm, c(0.025,0.25,0.5,0.75,0.975))"
   ]
  },
  {
   "cell_type": "markdown",
   "id": "a51e7a44",
   "metadata": {},
   "source": [
    "We can also call the __MCnormalnormal__ function in MCMCpack for this simulation as follow."
   ]
  },
  {
   "cell_type": "code",
   "execution_count": 19,
   "id": "bebebf0c",
   "metadata": {
    "scrolled": true
   },
   "outputs": [],
   "source": [
    "# install.packages('MCMCpack')"
   ]
  },
  {
   "cell_type": "code",
   "execution_count": 31,
   "id": "ab43e95f",
   "metadata": {},
   "outputs": [],
   "source": [
    "library(MCMCpack)"
   ]
  },
  {
   "cell_type": "code",
   "execution_count": 32,
   "id": "4a65e9bb",
   "metadata": {},
   "outputs": [
    {
     "data": {
      "text/plain": [
       "\n",
       "Iterations = 1:10000\n",
       "Thinning interval = 1 \n",
       "Number of chains = 1 \n",
       "Sample size per chain = 10000 \n",
       "\n",
       "1. Empirical mean and standard deviation for each variable,\n",
       "   plus standard error of the mean:\n",
       "\n",
       "          Mean             SD       Naive SE Time-series SE \n",
       "      2.897671       0.364749       0.003647       0.003647 \n",
       "\n",
       "2. Quantiles for each variable:\n",
       "\n",
       " 2.5%   25%   50%   75% 97.5% \n",
       "2.189 2.654 2.894 3.146 3.614 \n"
      ]
     },
     "metadata": {},
     "output_type": "display_data"
    }
   ],
   "source": [
    "# call the function\n",
    "Bayes2.norm2norm <- MCMCpack::MCnormalnormal(y, sigma^2, mu0, tau0^2, 10000)\n",
    "\n",
    "# print the summary\n",
    "summary(Bayes2.norm2norm)"
   ]
  },
  {
   "cell_type": "markdown",
   "id": "e304af4b",
   "metadata": {},
   "source": [
    "__Figure 9.1__Distribution of Prior, Direct Simulation, and MCnormal-normal"
   ]
  },
  {
   "cell_type": "code",
   "execution_count": 70,
   "id": "4f3fd5df",
   "metadata": {},
   "outputs": [
    {
     "data": {
      "image/png": "[encoded data removed]",
      "text/plain": [
       "plot without title"
      ]
     },
     "metadata": {
      "image/png": {
       "height": 420,
       "width": 420
      }
     },
     "output_type": "display_data"
    }
   ],
   "source": [
    "# Create x sequence\n",
    "x = seq(0,6,0.01)\n",
    "\n",
    "# plot the densities\n",
    "plot(x, dnorm(x, mu0,tau0), type=\"l\", lwd=1,las=1 , xlab=\"mu\", ylab=\"density\")"
   ]
  },
  {
   "cell_type": "code",
   "execution_count": 71,
   "id": "a95328a5",
   "metadata": {},
   "outputs": [
    {
     "data": {
      "image/png": "[encoded data removed]",
      "text/plain": [
       "plot without title"
      ]
     },
     "metadata": {
      "image/png": {
       "height": 420,
       "width": 420
      }
     },
     "output_type": "display_data"
    }
   ],
   "source": [
    "# Create x sequence\n",
    "x = seq(0,6,0.01)\n",
    "\n",
    "# plot the densities\n",
    "plot(x, dnorm(x, mu0,tau0), type=\"l\", lwd=1,las=1, ylim=c(0,1.4), xlab=\"mu\", ylab=\"density\", col='red')\n",
    "lines(x, dnorm(x, mean(y), sigma/sqrt(n)), lty=8, lwd=1, col='darkgreen')\n",
    "lines(density(Bayes1.norm2norm), lty=8, lwd=3, col='blue')\n",
    "\n",
    "legend(\"topright\", c(\"Prior\",\"Likelihood\", \"Posterior\"), lwd=c(1,1,3), lty=c(1,8,4), col=c ('red', 'darkgreen', 'blue'))"
   ]
  },
  {
   "cell_type": "markdown",
   "id": "7a027491",
   "metadata": {},
   "source": [
    "#### 9.3.2 Beta-Binomial Model"
   ]
  },
  {
   "cell_type": "markdown",
   "id": "821659a7",
   "metadata": {},
   "source": [
    "The beta-binomial distribution is commly used in Bayesian analysis of clinical trial data. The beta-binomial distribution results from binomial distributed data with a beta conjugate prior on the binomial probability parameter leading to a new (posterior) beta distribution. "
   ]
  },
  {
   "cell_type": "markdown",
   "id": "bcb2f080",
   "metadata": {},
   "source": [
    "__Data__: the duodenal ulcer trial\n",
    "* 800 mg C treatment was clinically optimal among the four treatments.\n",
    "* A total of 168, 182, 165 and 188 patients were randomly entered in the 0 mg C, 400 mg C, 800 mg C, 1600 mg C treatment groups repectively. \n",
    "* The corresponding cumulative numbers of patients whose ulcers healed by the end of week 4 were 69, 113, 120, and 145 repectively.\n",
    "\n",
    "\n",
    "\n",
    "The number of patients | 0 mg C | 400 mg C | 800 mg C |1600 mg C\n",
    "--- | --- | --- | --- | ---\n",
    " Entered in treatment groups | 168 | 182 | 165 | 188\n",
    "Ulcers healed | 69 | 113 | 120 | 145 \n",
    "P | $\\frac{69}{168}$ | $\\frac{113}{182}$ |$\\frac{120}{165}$ | $\\frac{145}{188}$\n",
    "|<img width=10/>|<img width=10/>|<img width=10/>|<img width=10/>"
   ]
  },
  {
   "cell_type": "code",
   "execution_count": 89,
   "id": "fd300c14",
   "metadata": {
    "scrolled": true
   },
   "outputs": [
    {
     "data": {
      "text/html": [
       "<style>\n",
       ".list-inline {list-style: none; margin:0; padding: 0}\n",
       ".list-inline>li {display: inline-block}\n",
       ".list-inline>li:not(:last-child)::after {content: \"\\00b7\"; padding: 0 .5ex}\n",
       "</style>\n",
       "<ol class=list-inline><li>0.410714285714286</li><li>0.620879120879121</li><li>0.727272727272727</li><li>0.771276595744681</li></ol>\n"
      ],
      "text/latex": [
       "\\begin{enumerate*}\n",
       "\\item 0.410714285714286\n",
       "\\item 0.620879120879121\n",
       "\\item 0.727272727272727\n",
       "\\item 0.771276595744681\n",
       "\\end{enumerate*}\n"
      ],
      "text/markdown": [
       "1. 0.410714285714286\n",
       "2. 0.620879120879121\n",
       "3. 0.727272727272727\n",
       "4. 0.771276595744681\n",
       "\n",
       "\n"
      ],
      "text/plain": [
       "[1] 0.4107143 0.6208791 0.7272727 0.7712766"
      ]
     },
     "metadata": {},
     "output_type": "display_data"
    }
   ],
   "source": [
    "# total patients for each treatment\n",
    "n <-  c(168, 182, 165,188)\n",
    "\n",
    "\n",
    "# number healed\n",
    "x <- c(69, 113, 120, 145)\n",
    "\n",
    "# the observed proportion\n",
    "p <- x/n\n",
    "\n",
    "p\n"
   ]
  },
  {
   "cell_type": "markdown",
   "id": "e5263a8a",
   "metadata": {},
   "source": [
    "Consider the 800 mg C treatment where we observed that $x_3=120$ of $n_3=165$ patients had their ulcers healed. $x_3$ is binomially distributed with the probability $p_3$ eatimated as $\\hat{p_3}=\\frac{x_3}{n_3}=\\frac{120}{165}=0.73$ <br>\n",
    "\n",
    "The likelihood is \n",
    "$L(p) \\propto p^{x_3}(1-p)^{n_3-x_3}$"
   ]
  },
  {
   "cell_type": "markdown",
   "id": "329e5538",
   "metadata": {},
   "source": [
    "For Bayesian Inference, we need to identify a suitable prior for the cumulative 4-week healing rate p. We could use the noninformative prior where the posterior distribution would be the same as the likelihoo."
   ]
  },
  {
   "cell_type": "markdown",
   "id": "ea75bc44",
   "metadata": {},
   "source": [
    "However, we illustrate a __simple approach__ to derive an __informative prior__.\n",
    "\n",
    "Suppose that the median of the distribution of p is about 0.75 and the 95 percentile is 0.85 for this treatment. We can build a search algorithm to find values to be used for the prior parameters a and b."
   ]
  },
  {
   "cell_type": "code",
   "execution_count": 84,
   "id": "02cef11a",
   "metadata": {},
   "outputs": [],
   "source": [
    "# the objective function\n",
    "obj <- function(parm){\n",
    "a = parm[1]; b = parm[2]\n",
    "(pbeta(0.50,a,b) -0.75)^2 + (pbeta(0.95,a,b)- 0.85)^2\n",
    "}\n",
    "\n",
    "# pbeta: probability of the Beta Distribution"
   ]
  },
  {
   "cell_type": "markdown",
   "id": "7045ea32",
   "metadata": {},
   "source": [
    "We use _optim_ to optimize (in this case, minimize) the objective function to find (a,b)."
   ]
  },
  {
   "cell_type": "code",
   "execution_count": 90,
   "id": "eeb1dc52",
   "metadata": {
    "scrolled": true
   },
   "outputs": [
    {
     "name": "stderr",
     "output_type": "stream",
     "text": [
      "Warning message in pbeta(0.5, a, b):\n",
      "\"NaNs produced\"\n",
      "Warning message in pbeta(0.95, a, b):\n",
      "\"NaNs produced\"\n",
      "Warning message in pbeta(0.5, a, b):\n",
      "\"NaNs produced\"\n",
      "Warning message in pbeta(0.95, a, b):\n",
      "\"NaNs produced\"\n"
     ]
    },
    {
     "name": "stdout",
     "output_type": "stream",
     "text": [
      "$par\n",
      "[1] 0.06211388 0.18292668\n",
      "\n",
      "$value\n",
      "[1] 2.571625e-10\n",
      "\n",
      "$counts\n",
      "function gradient \n",
      "     119       NA \n",
      "\n",
      "$convergence\n",
      "[1] 0\n",
      "\n",
      "$message\n",
      "NULL\n",
      "\n"
     ]
    }
   ],
   "source": [
    "# call optim to search the root with initial values at (3,3)\n",
    "out <- optim(c(3,3), obj)\n",
    "print(out)"
   ]
  },
  {
   "cell_type": "markdown",
   "id": "64a3462f",
   "metadata": {},
   "source": [
    "Note that this search is a local on and there are many roots to be found depending on where the search is started. \n",
    "We use a=0.0062 and b=0.183 from this search as the prior parameters for our beta prior. "
   ]
  },
  {
   "cell_type": "code",
   "execution_count": 92,
   "id": "3c2d2204",
   "metadata": {},
   "outputs": [
    {
     "data": {
      "text/html": [
       "0.749984148498536"
      ],
      "text/latex": [
       "0.749984148498536"
      ],
      "text/markdown": [
       "0.749984148498536"
      ],
      "text/plain": [
       "[1] 0.7499841"
      ]
     },
     "metadata": {},
     "output_type": "display_data"
    }
   ],
   "source": [
    "# the median of beta dist with a=0.0062 and b=0.183\n",
    "pbeta(0.5,out$par[1], out$par[2])"
   ]
  },
  {
   "cell_type": "code",
   "execution_count": 91,
   "id": "f103e3cb",
   "metadata": {},
   "outputs": [
    {
     "data": {
      "text/html": [
       "0.850002427422975"
      ],
      "text/latex": [
       "0.850002427422975"
      ],
      "text/markdown": [
       "0.850002427422975"
      ],
      "text/plain": [
       "[1] 0.8500024"
      ]
     },
     "metadata": {},
     "output_type": "display_data"
    }
   ],
   "source": [
    "# the 95% percentile of beta dist with a=0.0062 and b=0.183\n",
    "pbeta(0.95,out$par[1], out$par[2])"
   ]
  },
  {
   "cell_type": "markdown",
   "id": "33607ed9",
   "metadata": {},
   "source": [
    "Based on this prior, the posterior distribution for the cumulative 4-week healing rate is\n",
    "\n",
    "$$\\begin{eqnarray} \n",
    "p(p|n_3,x_3) &\\propto& L(p) \\times  \\pi(p) \\\\\n",
    "            &=& p^{x_3}(1-p)^{n_3-x_3}\\times p^{a-1}(1-p)^{b-1}\\\\\n",
    "            &=&p^{x_3+a-1}(1-p)^{n_3-x_3+b-1}\n",
    "\\end{eqnarray}$$\n",
    "\n",
    "which is $beta(x_3+a,n_3-x_3+b)\n",
    "=beta(120+0.062, 165-120+0.183)=beta(120.062, 45.183)$\n",
    "\n",
    "We now use this posterior distribution for 10,000 simulations."
   ]
  },
  {
   "cell_type": "markdown",
   "id": "e26cd77e",
   "metadata": {},
   "source": [
    "__Note__\n",
    "\n",
    "Now we assume that $y \\sim Binomial(n, \\theta)$ with $\\theta$ is tha binomial proportion parameter\n",
    "\n",
    "The conjugate prior Beta(a,b) as $\\pi(\\theta) \\propto \\theta^{a-1}(1-\\theta)^{b-1}$.\n",
    "\n",
    "The posterior distribution can be\n",
    "$p(\\theta|y)= Beta(a+y, b+n-y)$ "
   ]
  },
  {
   "cell_type": "code",
   "execution_count": 93,
   "id": "2c0d9cdf",
   "metadata": {},
   "outputs": [
    {
     "data": {
      "text/html": [
       "<style>\n",
       ".dl-inline {width: auto; margin:0; padding: 0}\n",
       ".dl-inline>dt, .dl-inline>dd {float: none; width: auto; display: inline-block}\n",
       ".dl-inline>dt::after {content: \":\\0020\"; padding-right: .5ex}\n",
       ".dl-inline>dt:not(:first-of-type) {padding-left: .5ex}\n",
       "</style><dl class=dl-inline><dt>2.5%</dt><dd>0.656108064765255</dd><dt>25%</dt><dd>0.703696035720307</dd><dt>50%</dt><dd>0.727122465739557</dd><dt>75%</dt><dd>0.750080917292688</dd><dt>97.5%</dt><dd>0.790658496283295</dd></dl>\n"
      ],
      "text/latex": [
       "\\begin{description*}\n",
       "\\item[2.5\\textbackslash{}\\%] 0.656108064765255\n",
       "\\item[25\\textbackslash{}\\%] 0.703696035720307\n",
       "\\item[50\\textbackslash{}\\%] 0.727122465739557\n",
       "\\item[75\\textbackslash{}\\%] 0.750080917292688\n",
       "\\item[97.5\\textbackslash{}\\%] 0.790658496283295\n",
       "\\end{description*}\n"
      ],
      "text/markdown": [
       "2.5%\n",
       ":   0.65610806476525525%\n",
       ":   0.70369603572030750%\n",
       ":   0.72712246573955775%\n",
       ":   0.75008091729268897.5%\n",
       ":   0.790658496283295\n",
       "\n"
      ],
      "text/plain": [
       "     2.5%       25%       50%       75%     97.5% \n",
       "0.6561081 0.7036960 0.7271225 0.7500809 0.7906585 "
      ]
     },
     "metadata": {},
     "output_type": "display_data"
    }
   ],
   "source": [
    "# direct simulation\n",
    "Bayes1.betabin = rbeta(10000, 120.062, 45.183)\n",
    "\n",
    "# print the quantiles\n",
    "quantile(Bayes1.betabin, c(0.025,0.25,0.5,0.75,0.975))"
   ]
  },
  {
   "cell_type": "code",
   "execution_count": 79,
   "id": "1848db6a",
   "metadata": {},
   "outputs": [
    {
     "data": {
      "text/plain": [
       "\n",
       "Iterations = 1:10000\n",
       "Thinning interval = 1 \n",
       "Number of chains = 1 \n",
       "Sample size per chain = 10000 \n",
       "\n",
       "1. Empirical mean and standard deviation for each variable,\n",
       "   plus standard error of the mean:\n",
       "\n",
       "          Mean             SD       Naive SE Time-series SE \n",
       "     0.7262305      0.0347453      0.0003475      0.0003475 \n",
       "\n",
       "2. Quantiles for each variable:\n",
       "\n",
       "  2.5%    25%    50%    75%  97.5% \n",
       "0.6557 0.7033 0.7269 0.7497 0.7921 \n"
      ]
     },
     "metadata": {},
     "output_type": "display_data"
    }
   ],
   "source": [
    "# keep the parameters\n",
    "x3 = 120; n3 =165; a = 0.062; b=0.183\n",
    "\n",
    "# call the MCbinomialbeta function for 10000 simulation\n",
    "Bayes2.betabin = MCbinomialbeta(x3, n3, a, b, mc=10000)\n",
    "\n",
    "# print the summary\n",
    "summary(Bayes2.betabin)"
   ]
  },
  {
   "cell_type": "markdown",
   "id": "c627eaaa",
   "metadata": {},
   "source": [
    "We can emply the _MCbinomialbeta_ function from the MCMCpack package for the same purpose. This function is for Monte Carlo simulation from a binomial likelihood with a beta prior."
   ]
  },
  {
   "cell_type": "code",
   "execution_count": 94,
   "id": "17d75d0b",
   "metadata": {},
   "outputs": [
    {
     "data": {
      "text/plain": [
       "\n",
       "Iterations = 1:10000\n",
       "Thinning interval = 1 \n",
       "Number of chains = 1 \n",
       "Sample size per chain = 10000 \n",
       "\n",
       "1. Empirical mean and standard deviation for each variable,\n",
       "   plus standard error of the mean:\n",
       "\n",
       "          Mean             SD       Naive SE Time-series SE \n",
       "     0.7261329      0.0346258      0.0003463      0.0003463 \n",
       "\n",
       "2. Quantiles for each variable:\n",
       "\n",
       "  2.5%    25%    50%    75%  97.5% \n",
       "0.6563 0.7030 0.7272 0.7499 0.7912 \n"
      ]
     },
     "metadata": {},
     "output_type": "display_data"
    }
   ],
   "source": [
    "# keep the parameters\n",
    "x3 = 120; n3 =165; a = 0.062; b=0.183\n",
    "\n",
    "# call the MCbinomialbeta function for 10000 simulation\n",
    "Bayes2.betabin = MCbinomialbeta(x3, n3, a, b, mc=10000)\n",
    "\n",
    "# print the summary\n",
    "summary(Bayes2.betabin)"
   ]
  },
  {
   "cell_type": "markdown",
   "id": "9c28a793",
   "metadata": {},
   "source": [
    "__Figure 9.2__: Distributions of Prior, Direct Simulaion, and MCbinomial-beta"
   ]
  },
  {
   "cell_type": "code",
   "execution_count": 95,
   "id": "8d490af0",
   "metadata": {},
   "outputs": [
    {
     "data": {
      "image/png": "[encoded data removed]",
      "text/plain": [
       "plot without title"
      ]
     },
     "metadata": {
      "image/png": {
       "height": 420,
       "width": 420
      }
     },
     "output_type": "display_data"
    }
   ],
   "source": [
    "# create a sequence for p for plotting\n",
    "p = seq(0,1,0.01)\n",
    "\n",
    "# plot beta-density\n",
    "plot(p, dbeta(p,a, b), lwd=3, type=\"l\",ylim=c(0,13),\n",
    "xlab=\"Healing Rate\", ylab=\"density\", col='red')\n",
    "\n",
    "# Add lines to the density\n",
    "lines(density(Bayes1.betabin), lty=4, lwd=3, col='darkgreen')\n",
    "lines(density(Bayes2.betabin), lty=8, lwd=3, col='blue')\n",
    "\n",
    "# add legend to the plot\n",
    "legend(\"topleft\", c(\"Prior\", \"Direct Simulation\",\n",
    "\"MCbinomialbeta\"), lwd=3, lty=c(1,4,8), col=c('red','darkgreen', 'blue'))"
   ]
  },
  {
   "cell_type": "markdown",
   "id": "db8fb4dc",
   "metadata": {},
   "source": [
    "In this fiture, the direct simulation and MCbinomialgeta are almost identical."
   ]
  }
 ],
 "metadata": {
  "kernelspec": {
   "display_name": "R",
   "language": "R",
   "name": "ir"
  },
  "language_info": {
   "codemirror_mode": "r",
   "file_extension": ".r",
   "mimetype": "text/x-r-source",
   "name": "R",
   "pygments_lexer": "r",
   "version": "4.1.3"
  }
 },
 "nbformat": 4,
 "nbformat_minor": 5
}
