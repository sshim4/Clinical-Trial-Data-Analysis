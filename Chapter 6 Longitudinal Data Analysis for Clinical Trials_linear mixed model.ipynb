{
 "cells": [
  {
   "cell_type": "code",
   "execution_count": 121,
   "id": "a6bb24d6",
   "metadata": {},
   "outputs": [
    {
     "name": "stdout",
     "output_type": "stream",
     "text": [
      "Last updated  Fri Oct 14 18:26:36 2022"
     ]
    }
   ],
   "source": [
    "cat('Last updated ', date())"
   ]
  },
  {
   "cell_type": "markdown",
   "id": "e7fbef57",
   "metadata": {},
   "source": [
    "# Clinical Trial Data analysis using R and SAS\n",
    "### Author : Ding-Geng (Din) Chen , Karl E. Peace, Pinggao Zhang"
   ]
  },
  {
   "cell_type": "markdown",
   "id": "cf0e7178",
   "metadata": {},
   "source": [
    "* Note : This note book is created with R in Jupyter Notebook.\n",
    "* Note : I made this note book while studying the book. Additional R code in addition to the book is added if necessary such that a code is not provided or addntional explanation is needed.  For detail explanation, refer the book. "
   ]
  },
  {
   "cell_type": "code",
   "execution_count": 122,
   "id": "a29eb01f",
   "metadata": {},
   "outputs": [
    {
     "data": {
      "text/plain": [
       "               _                           \n",
       "platform       x86_64-w64-mingw32          \n",
       "arch           x86_64                      \n",
       "os             mingw32                     \n",
       "system         x86_64, mingw32             \n",
       "status                                     \n",
       "major          4                           \n",
       "minor          1.3                         \n",
       "year           2022                        \n",
       "month          03                          \n",
       "day            10                          \n",
       "svn rev        81868                       \n",
       "language       R                           \n",
       "version.string R version 4.1.3 (2022-03-10)\n",
       "nickname       One Push-Up                 "
      ]
     },
     "metadata": {},
     "output_type": "display_data"
    }
   ],
   "source": [
    "R.version"
   ]
  },
  {
   "cell_type": "markdown",
   "id": "64cbcf7f",
   "metadata": {},
   "source": [
    "## Chapter 6 Longitudinal Data Analysis for Clinical Trials"
   ]
  },
  {
   "cell_type": "markdown",
   "id": "bd459556",
   "metadata": {},
   "source": [
    "### 6.3 Longitudinal Data Analysis for Clinical Trials"
   ]
  },
  {
   "cell_type": "markdown",
   "id": "edb73b79",
   "metadata": {},
   "source": [
    "#### 6.3.1 Analysis of Diastolic Blood Pressure Data"
   ]
  },
  {
   "cell_type": "code",
   "execution_count": 123,
   "id": "dd678037",
   "metadata": {},
   "outputs": [],
   "source": [
    "setwd('C:/Users/shims/Desktop/Bio-Statistics/Clinical Trial Data Analysis using R')"
   ]
  },
  {
   "cell_type": "code",
   "execution_count": 124,
   "id": "16e5676c",
   "metadata": {},
   "outputs": [
    {
     "data": {
      "text/html": [
       "<table class=\"dataframe\">\n",
       "<caption>A data.frame: 6 × 9</caption>\n",
       "<thead>\n",
       "\t<tr><th></th><th scope=col>Subject</th><th scope=col>TRT</th><th scope=col>DBP1</th><th scope=col>DBP2</th><th scope=col>DBP3</th><th scope=col>DBP4</th><th scope=col>DBP5</th><th scope=col>Age</th><th scope=col>Sex</th></tr>\n",
       "\t<tr><th></th><th scope=col>&lt;int&gt;</th><th scope=col>&lt;chr&gt;</th><th scope=col>&lt;int&gt;</th><th scope=col>&lt;int&gt;</th><th scope=col>&lt;int&gt;</th><th scope=col>&lt;int&gt;</th><th scope=col>&lt;int&gt;</th><th scope=col>&lt;int&gt;</th><th scope=col>&lt;chr&gt;</th></tr>\n",
       "</thead>\n",
       "<tbody>\n",
       "\t<tr><th scope=row>1</th><td>1</td><td>A</td><td>114</td><td>115</td><td>113</td><td>109</td><td>105</td><td>43</td><td>F</td></tr>\n",
       "\t<tr><th scope=row>2</th><td>2</td><td>A</td><td>116</td><td>113</td><td>112</td><td>103</td><td>101</td><td>51</td><td>M</td></tr>\n",
       "\t<tr><th scope=row>3</th><td>3</td><td>A</td><td>119</td><td>115</td><td>113</td><td>104</td><td> 98</td><td>48</td><td>F</td></tr>\n",
       "\t<tr><th scope=row>4</th><td>4</td><td>A</td><td>115</td><td>113</td><td>112</td><td>109</td><td>101</td><td>42</td><td>F</td></tr>\n",
       "\t<tr><th scope=row>5</th><td>5</td><td>A</td><td>116</td><td>112</td><td>107</td><td>104</td><td>105</td><td>49</td><td>M</td></tr>\n",
       "\t<tr><th scope=row>6</th><td>6</td><td>A</td><td>117</td><td>112</td><td>113</td><td>104</td><td>102</td><td>47</td><td>M</td></tr>\n",
       "</tbody>\n",
       "</table>\n"
      ],
      "text/latex": [
       "A data.frame: 6 × 9\n",
       "\\begin{tabular}{r|lllllllll}\n",
       "  & Subject & TRT & DBP1 & DBP2 & DBP3 & DBP4 & DBP5 & Age & Sex\\\\\n",
       "  & <int> & <chr> & <int> & <int> & <int> & <int> & <int> & <int> & <chr>\\\\\n",
       "\\hline\n",
       "\t1 & 1 & A & 114 & 115 & 113 & 109 & 105 & 43 & F\\\\\n",
       "\t2 & 2 & A & 116 & 113 & 112 & 103 & 101 & 51 & M\\\\\n",
       "\t3 & 3 & A & 119 & 115 & 113 & 104 &  98 & 48 & F\\\\\n",
       "\t4 & 4 & A & 115 & 113 & 112 & 109 & 101 & 42 & F\\\\\n",
       "\t5 & 5 & A & 116 & 112 & 107 & 104 & 105 & 49 & M\\\\\n",
       "\t6 & 6 & A & 117 & 112 & 113 & 104 & 102 & 47 & M\\\\\n",
       "\\end{tabular}\n"
      ],
      "text/markdown": [
       "\n",
       "A data.frame: 6 × 9\n",
       "\n",
       "| <!--/--> | Subject &lt;int&gt; | TRT &lt;chr&gt; | DBP1 &lt;int&gt; | DBP2 &lt;int&gt; | DBP3 &lt;int&gt; | DBP4 &lt;int&gt; | DBP5 &lt;int&gt; | Age &lt;int&gt; | Sex &lt;chr&gt; |\n",
       "|---|---|---|---|---|---|---|---|---|---|\n",
       "| 1 | 1 | A | 114 | 115 | 113 | 109 | 105 | 43 | F |\n",
       "| 2 | 2 | A | 116 | 113 | 112 | 103 | 101 | 51 | M |\n",
       "| 3 | 3 | A | 119 | 115 | 113 | 104 |  98 | 48 | F |\n",
       "| 4 | 4 | A | 115 | 113 | 112 | 109 | 101 | 42 | F |\n",
       "| 5 | 5 | A | 116 | 112 | 107 | 104 | 105 | 49 | M |\n",
       "| 6 | 6 | A | 117 | 112 | 113 | 104 | 102 | 47 | M |\n",
       "\n"
      ],
      "text/plain": [
       "  Subject TRT DBP1 DBP2 DBP3 DBP4 DBP5 Age Sex\n",
       "1 1       A   114  115  113  109  105  43  F  \n",
       "2 2       A   116  113  112  103  101  51  M  \n",
       "3 3       A   119  115  113  104   98  48  F  \n",
       "4 4       A   115  113  112  109  101  42  F  \n",
       "5 5       A   116  112  107  104  105  49  M  \n",
       "6 6       A   117  112  113  104  102  47  M  "
      ]
     },
     "metadata": {},
     "output_type": "display_data"
    }
   ],
   "source": [
    "dat <- read.csv(\"DBP.csv\", header=T)\n",
    "head(dat)"
   ]
  },
  {
   "cell_type": "code",
   "execution_count": 125,
   "id": "2b9ad659",
   "metadata": {},
   "outputs": [
    {
     "data": {
      "text/plain": [
       "    Subject          TRT                 DBP1            DBP2      \n",
       " Min.   : 1.00   Length:40          Min.   :114.0   Min.   :111.0  \n",
       " 1st Qu.:10.75   Class :character   1st Qu.:115.0   1st Qu.:113.0  \n",
       " Median :20.50   Mode  :character   Median :116.5   Median :115.0  \n",
       " Mean   :20.50                      Mean   :116.7   Mean   :114.3  \n",
       " 3rd Qu.:30.25                      3rd Qu.:118.0   3rd Qu.:115.0  \n",
       " Max.   :40.00                      Max.   :121.0   Max.   :119.0  \n",
       "      DBP3            DBP4            DBP5            Age       \n",
       " Min.   :100.0   Min.   :102.0   Min.   : 97.0   Min.   :38.00  \n",
       " 1st Qu.:112.0   1st Qu.:106.8   1st Qu.:101.8   1st Qu.:42.00  \n",
       " Median :113.0   Median :109.0   Median :106.5   Median :48.00  \n",
       " Mean   :112.4   Mean   :109.3   Mean   :106.7   Mean   :47.83  \n",
       " 3rd Qu.:113.0   3rd Qu.:113.2   3rd Qu.:112.0   3rd Qu.:51.25  \n",
       " Max.   :118.0   Max.   :117.0   Max.   :115.0   Max.   :63.00  \n",
       "     Sex           \n",
       " Length:40         \n",
       " Class :character  \n",
       " Mode  :character  \n",
       "                   \n",
       "                   \n",
       "                   "
      ]
     },
     "metadata": {},
     "output_type": "display_data"
    }
   ],
   "source": [
    "summary(dat)"
   ]
  },
  {
   "cell_type": "markdown",
   "id": "bef46aff",
   "metadata": {},
   "source": [
    "#### Reshape the data into \"long\" direction"
   ]
  },
  {
   "cell_type": "code",
   "execution_count": 126,
   "id": "2e5bdf4a",
   "metadata": {},
   "outputs": [],
   "source": [
    "Dat <- reshape(dat, direction=\"long\",\n",
    "              varying=c(\"DBP1\",\"DBP2\",\"DBP3\",\"DBP4\",\"DBP5\"),\n",
    "               idvar = c(\"Subject\",\"TRT\",\"Age\",\"Sex\"),sep=\"\")"
   ]
  },
  {
   "cell_type": "code",
   "execution_count": 127,
   "id": "5552697e",
   "metadata": {},
   "outputs": [],
   "source": [
    "# rename the variables\n",
    "colnames(Dat) = c(\"Subject\",\"TRT\",\"Age\",\"Sex\",\"Time\",\"DBP\")"
   ]
  },
  {
   "cell_type": "code",
   "execution_count": 128,
   "id": "584f768f",
   "metadata": {},
   "outputs": [
    {
     "data": {
      "text/html": [
       "<table class=\"dataframe\">\n",
       "<caption>A data.frame: 6 × 6</caption>\n",
       "<thead>\n",
       "\t<tr><th></th><th scope=col>Subject</th><th scope=col>TRT</th><th scope=col>Age</th><th scope=col>Sex</th><th scope=col>Time</th><th scope=col>DBP</th></tr>\n",
       "\t<tr><th></th><th scope=col>&lt;int&gt;</th><th scope=col>&lt;chr&gt;</th><th scope=col>&lt;int&gt;</th><th scope=col>&lt;chr&gt;</th><th scope=col>&lt;dbl&gt;</th><th scope=col>&lt;int&gt;</th></tr>\n",
       "</thead>\n",
       "<tbody>\n",
       "\t<tr><th scope=row>1.A.43.F.1</th><td>1</td><td>A</td><td>43</td><td>F</td><td>1</td><td>114</td></tr>\n",
       "\t<tr><th scope=row>2.A.51.M.1</th><td>2</td><td>A</td><td>51</td><td>M</td><td>1</td><td>116</td></tr>\n",
       "\t<tr><th scope=row>3.A.48.F.1</th><td>3</td><td>A</td><td>48</td><td>F</td><td>1</td><td>119</td></tr>\n",
       "\t<tr><th scope=row>4.A.42.F.1</th><td>4</td><td>A</td><td>42</td><td>F</td><td>1</td><td>115</td></tr>\n",
       "\t<tr><th scope=row>5.A.49.M.1</th><td>5</td><td>A</td><td>49</td><td>M</td><td>1</td><td>116</td></tr>\n",
       "\t<tr><th scope=row>6.A.47.M.1</th><td>6</td><td>A</td><td>47</td><td>M</td><td>1</td><td>117</td></tr>\n",
       "</tbody>\n",
       "</table>\n"
      ],
      "text/latex": [
       "A data.frame: 6 × 6\n",
       "\\begin{tabular}{r|llllll}\n",
       "  & Subject & TRT & Age & Sex & Time & DBP\\\\\n",
       "  & <int> & <chr> & <int> & <chr> & <dbl> & <int>\\\\\n",
       "\\hline\n",
       "\t1.A.43.F.1 & 1 & A & 43 & F & 1 & 114\\\\\n",
       "\t2.A.51.M.1 & 2 & A & 51 & M & 1 & 116\\\\\n",
       "\t3.A.48.F.1 & 3 & A & 48 & F & 1 & 119\\\\\n",
       "\t4.A.42.F.1 & 4 & A & 42 & F & 1 & 115\\\\\n",
       "\t5.A.49.M.1 & 5 & A & 49 & M & 1 & 116\\\\\n",
       "\t6.A.47.M.1 & 6 & A & 47 & M & 1 & 117\\\\\n",
       "\\end{tabular}\n"
      ],
      "text/markdown": [
       "\n",
       "A data.frame: 6 × 6\n",
       "\n",
       "| <!--/--> | Subject &lt;int&gt; | TRT &lt;chr&gt; | Age &lt;int&gt; | Sex &lt;chr&gt; | Time &lt;dbl&gt; | DBP &lt;int&gt; |\n",
       "|---|---|---|---|---|---|---|\n",
       "| 1.A.43.F.1 | 1 | A | 43 | F | 1 | 114 |\n",
       "| 2.A.51.M.1 | 2 | A | 51 | M | 1 | 116 |\n",
       "| 3.A.48.F.1 | 3 | A | 48 | F | 1 | 119 |\n",
       "| 4.A.42.F.1 | 4 | A | 42 | F | 1 | 115 |\n",
       "| 5.A.49.M.1 | 5 | A | 49 | M | 1 | 116 |\n",
       "| 6.A.47.M.1 | 6 | A | 47 | M | 1 | 117 |\n",
       "\n"
      ],
      "text/plain": [
       "           Subject TRT Age Sex Time DBP\n",
       "1.A.43.F.1 1       A   43  F   1    114\n",
       "2.A.51.M.1 2       A   51  M   1    116\n",
       "3.A.48.F.1 3       A   48  F   1    119\n",
       "4.A.42.F.1 4       A   42  F   1    115\n",
       "5.A.49.M.1 5       A   49  M   1    116\n",
       "6.A.47.M.1 6       A   47  M   1    117"
      ]
     },
     "metadata": {},
     "output_type": "display_data"
    }
   ],
   "source": [
    "head(Dat)"
   ]
  },
  {
   "cell_type": "markdown",
   "id": "88c137c5",
   "metadata": {},
   "source": [
    "You can see how the data is changed."
   ]
  },
  {
   "cell_type": "code",
   "execution_count": 129,
   "id": "7329d99f",
   "metadata": {},
   "outputs": [
    {
     "data": {
      "text/html": [
       "<table class=\"dataframe\">\n",
       "<caption>A data.frame: 1 × 9</caption>\n",
       "<thead>\n",
       "\t<tr><th></th><th scope=col>Subject</th><th scope=col>TRT</th><th scope=col>DBP1</th><th scope=col>DBP2</th><th scope=col>DBP3</th><th scope=col>DBP4</th><th scope=col>DBP5</th><th scope=col>Age</th><th scope=col>Sex</th></tr>\n",
       "\t<tr><th></th><th scope=col>&lt;int&gt;</th><th scope=col>&lt;chr&gt;</th><th scope=col>&lt;int&gt;</th><th scope=col>&lt;int&gt;</th><th scope=col>&lt;int&gt;</th><th scope=col>&lt;int&gt;</th><th scope=col>&lt;int&gt;</th><th scope=col>&lt;int&gt;</th><th scope=col>&lt;chr&gt;</th></tr>\n",
       "</thead>\n",
       "<tbody>\n",
       "\t<tr><th scope=row>1</th><td>1</td><td>A</td><td>114</td><td>115</td><td>113</td><td>109</td><td>105</td><td>43</td><td>F</td></tr>\n",
       "</tbody>\n",
       "</table>\n"
      ],
      "text/latex": [
       "A data.frame: 1 × 9\n",
       "\\begin{tabular}{r|lllllllll}\n",
       "  & Subject & TRT & DBP1 & DBP2 & DBP3 & DBP4 & DBP5 & Age & Sex\\\\\n",
       "  & <int> & <chr> & <int> & <int> & <int> & <int> & <int> & <int> & <chr>\\\\\n",
       "\\hline\n",
       "\t1 & 1 & A & 114 & 115 & 113 & 109 & 105 & 43 & F\\\\\n",
       "\\end{tabular}\n"
      ],
      "text/markdown": [
       "\n",
       "A data.frame: 1 × 9\n",
       "\n",
       "| <!--/--> | Subject &lt;int&gt; | TRT &lt;chr&gt; | DBP1 &lt;int&gt; | DBP2 &lt;int&gt; | DBP3 &lt;int&gt; | DBP4 &lt;int&gt; | DBP5 &lt;int&gt; | Age &lt;int&gt; | Sex &lt;chr&gt; |\n",
       "|---|---|---|---|---|---|---|---|---|---|\n",
       "| 1 | 1 | A | 114 | 115 | 113 | 109 | 105 | 43 | F |\n",
       "\n"
      ],
      "text/plain": [
       "  Subject TRT DBP1 DBP2 DBP3 DBP4 DBP5 Age Sex\n",
       "1 1       A   114  115  113  109  105  43  F  "
      ]
     },
     "metadata": {},
     "output_type": "display_data"
    },
    {
     "data": {
      "text/html": [
       "<table class=\"dataframe\">\n",
       "<caption>A data.frame: 5 × 6</caption>\n",
       "<thead>\n",
       "\t<tr><th></th><th scope=col>Subject</th><th scope=col>TRT</th><th scope=col>Age</th><th scope=col>Sex</th><th scope=col>Time</th><th scope=col>DBP</th></tr>\n",
       "\t<tr><th></th><th scope=col>&lt;int&gt;</th><th scope=col>&lt;chr&gt;</th><th scope=col>&lt;int&gt;</th><th scope=col>&lt;chr&gt;</th><th scope=col>&lt;dbl&gt;</th><th scope=col>&lt;int&gt;</th></tr>\n",
       "</thead>\n",
       "<tbody>\n",
       "\t<tr><th scope=row>1.A.43.F.1</th><td>1</td><td>A</td><td>43</td><td>F</td><td>1</td><td>114</td></tr>\n",
       "\t<tr><th scope=row>1.A.43.F.2</th><td>1</td><td>A</td><td>43</td><td>F</td><td>2</td><td>115</td></tr>\n",
       "\t<tr><th scope=row>1.A.43.F.3</th><td>1</td><td>A</td><td>43</td><td>F</td><td>3</td><td>113</td></tr>\n",
       "\t<tr><th scope=row>1.A.43.F.4</th><td>1</td><td>A</td><td>43</td><td>F</td><td>4</td><td>109</td></tr>\n",
       "\t<tr><th scope=row>1.A.43.F.5</th><td>1</td><td>A</td><td>43</td><td>F</td><td>5</td><td>105</td></tr>\n",
       "</tbody>\n",
       "</table>\n"
      ],
      "text/latex": [
       "A data.frame: 5 × 6\n",
       "\\begin{tabular}{r|llllll}\n",
       "  & Subject & TRT & Age & Sex & Time & DBP\\\\\n",
       "  & <int> & <chr> & <int> & <chr> & <dbl> & <int>\\\\\n",
       "\\hline\n",
       "\t1.A.43.F.1 & 1 & A & 43 & F & 1 & 114\\\\\n",
       "\t1.A.43.F.2 & 1 & A & 43 & F & 2 & 115\\\\\n",
       "\t1.A.43.F.3 & 1 & A & 43 & F & 3 & 113\\\\\n",
       "\t1.A.43.F.4 & 1 & A & 43 & F & 4 & 109\\\\\n",
       "\t1.A.43.F.5 & 1 & A & 43 & F & 5 & 105\\\\\n",
       "\\end{tabular}\n"
      ],
      "text/markdown": [
       "\n",
       "A data.frame: 5 × 6\n",
       "\n",
       "| <!--/--> | Subject &lt;int&gt; | TRT &lt;chr&gt; | Age &lt;int&gt; | Sex &lt;chr&gt; | Time &lt;dbl&gt; | DBP &lt;int&gt; |\n",
       "|---|---|---|---|---|---|---|\n",
       "| 1.A.43.F.1 | 1 | A | 43 | F | 1 | 114 |\n",
       "| 1.A.43.F.2 | 1 | A | 43 | F | 2 | 115 |\n",
       "| 1.A.43.F.3 | 1 | A | 43 | F | 3 | 113 |\n",
       "| 1.A.43.F.4 | 1 | A | 43 | F | 4 | 109 |\n",
       "| 1.A.43.F.5 | 1 | A | 43 | F | 5 | 105 |\n",
       "\n"
      ],
      "text/plain": [
       "           Subject TRT Age Sex Time DBP\n",
       "1.A.43.F.1 1       A   43  F   1    114\n",
       "1.A.43.F.2 1       A   43  F   2    115\n",
       "1.A.43.F.3 1       A   43  F   3    113\n",
       "1.A.43.F.4 1       A   43  F   4    109\n",
       "1.A.43.F.5 1       A   43  F   5    105"
      ]
     },
     "metadata": {},
     "output_type": "display_data"
    }
   ],
   "source": [
    "dat[dat$TRT=='A' & dat$Sex=='F' & dat$Age==43,]\n",
    "Dat[Dat$TRT=='A' & Dat$Sex=='F' & Dat$Age==43,]"
   ]
  },
  {
   "cell_type": "markdown",
   "id": "15618d70",
   "metadata": {},
   "source": [
    "Now the data set,_Dat_, is the \"long\" format, which has all possible combinations of \"Subject\",\"TRT\",\"Age\",\"Sex\"."
   ]
  },
  {
   "cell_type": "markdown",
   "id": "a654bd4b",
   "metadata": {},
   "source": [
    "You can also export the date into excel form. "
   ]
  },
  {
   "cell_type": "code",
   "execution_count": 130,
   "id": "0e57984f",
   "metadata": {},
   "outputs": [],
   "source": [
    "write.csv(Dat,\"Dat_long.csv\")"
   ]
  },
  {
   "cell_type": "markdown",
   "id": "f4b546f5",
   "metadata": {},
   "source": [
    "#### Figure 6.1: DBP as a Function of Time for Each Patient "
   ]
  },
  {
   "cell_type": "code",
   "execution_count": 131,
   "id": "9c8e57e1",
   "metadata": {},
   "outputs": [],
   "source": [
    "# install.packages('lattice')"
   ]
  },
  {
   "cell_type": "code",
   "execution_count": 132,
   "id": "620cd021",
   "metadata": {},
   "outputs": [],
   "source": [
    "library(lattice)"
   ]
  },
  {
   "cell_type": "code",
   "execution_count": 133,
   "id": "88ce30c9",
   "metadata": {},
   "outputs": [
    {
     "name": "stderr",
     "output_type": "stream",
     "text": [
      "The following objects are masked from Dat (pos = 6):\n",
      "\n",
      "    Age, DBP, Sex, Subject, Time, TRT\n",
      "\n",
      "\n"
     ]
    }
   ],
   "source": [
    "attach(Dat)"
   ]
  },
  {
   "cell_type": "code",
   "execution_count": 134,
   "id": "a8e229ec",
   "metadata": {},
   "outputs": [
    {
     "data": {
      "image/png": "[encoded data removed]",
      "text/plain": [
       "plot without title"
      ]
     },
     "metadata": {
      "image/png": {
       "height": 1200,
       "width": 1200
      }
     },
     "output_type": "display_data"
    }
   ],
   "source": [
    "options(repr.plot.width=20, repr.plot.height=20)\n",
    "print(xyplot(DBP ~ Time|as.factor(Subject), type=\"l\", \n",
    "     groups=TRT, lty=c(1,8), lwd=2, layout=c(10,4), Dat))"
   ]
  },
  {
   "cell_type": "markdown",
   "id": "adb9ae0c",
   "metadata": {},
   "source": [
    "In this figure, \n",
    "* the first 20 patients (from treatment A) are plotted using a solid line. \n",
    "* the next 20 patients (from treatment B) are plotted using dashed lines.\n",
    "* Note each patient has 5 points"
   ]
  },
  {
   "cell_type": "markdown",
   "id": "c05a157a",
   "metadata": {},
   "source": [
    "For better understand, we can plot only for #1 patient with tretment A."
   ]
  },
  {
   "cell_type": "code",
   "execution_count": 135,
   "id": "0ddb72a5",
   "metadata": {},
   "outputs": [],
   "source": [
    "subject1 <- Dat[Dat$TRT=='A' & Dat$Subject=='1',]"
   ]
  },
  {
   "cell_type": "code",
   "execution_count": 136,
   "id": "c57d1060",
   "metadata": {},
   "outputs": [
    {
     "data": {
      "text/html": [
       "<table class=\"dataframe\">\n",
       "<caption>A data.frame: 5 × 6</caption>\n",
       "<thead>\n",
       "\t<tr><th></th><th scope=col>Subject</th><th scope=col>TRT</th><th scope=col>Age</th><th scope=col>Sex</th><th scope=col>Time</th><th scope=col>DBP</th></tr>\n",
       "\t<tr><th></th><th scope=col>&lt;int&gt;</th><th scope=col>&lt;chr&gt;</th><th scope=col>&lt;int&gt;</th><th scope=col>&lt;chr&gt;</th><th scope=col>&lt;dbl&gt;</th><th scope=col>&lt;int&gt;</th></tr>\n",
       "</thead>\n",
       "<tbody>\n",
       "\t<tr><th scope=row>1.A.43.F.1</th><td>1</td><td>A</td><td>43</td><td>F</td><td>1</td><td>114</td></tr>\n",
       "\t<tr><th scope=row>1.A.43.F.2</th><td>1</td><td>A</td><td>43</td><td>F</td><td>2</td><td>115</td></tr>\n",
       "\t<tr><th scope=row>1.A.43.F.3</th><td>1</td><td>A</td><td>43</td><td>F</td><td>3</td><td>113</td></tr>\n",
       "\t<tr><th scope=row>1.A.43.F.4</th><td>1</td><td>A</td><td>43</td><td>F</td><td>4</td><td>109</td></tr>\n",
       "\t<tr><th scope=row>1.A.43.F.5</th><td>1</td><td>A</td><td>43</td><td>F</td><td>5</td><td>105</td></tr>\n",
       "</tbody>\n",
       "</table>\n"
      ],
      "text/latex": [
       "A data.frame: 5 × 6\n",
       "\\begin{tabular}{r|llllll}\n",
       "  & Subject & TRT & Age & Sex & Time & DBP\\\\\n",
       "  & <int> & <chr> & <int> & <chr> & <dbl> & <int>\\\\\n",
       "\\hline\n",
       "\t1.A.43.F.1 & 1 & A & 43 & F & 1 & 114\\\\\n",
       "\t1.A.43.F.2 & 1 & A & 43 & F & 2 & 115\\\\\n",
       "\t1.A.43.F.3 & 1 & A & 43 & F & 3 & 113\\\\\n",
       "\t1.A.43.F.4 & 1 & A & 43 & F & 4 & 109\\\\\n",
       "\t1.A.43.F.5 & 1 & A & 43 & F & 5 & 105\\\\\n",
       "\\end{tabular}\n"
      ],
      "text/markdown": [
       "\n",
       "A data.frame: 5 × 6\n",
       "\n",
       "| <!--/--> | Subject &lt;int&gt; | TRT &lt;chr&gt; | Age &lt;int&gt; | Sex &lt;chr&gt; | Time &lt;dbl&gt; | DBP &lt;int&gt; |\n",
       "|---|---|---|---|---|---|---|\n",
       "| 1.A.43.F.1 | 1 | A | 43 | F | 1 | 114 |\n",
       "| 1.A.43.F.2 | 1 | A | 43 | F | 2 | 115 |\n",
       "| 1.A.43.F.3 | 1 | A | 43 | F | 3 | 113 |\n",
       "| 1.A.43.F.4 | 1 | A | 43 | F | 4 | 109 |\n",
       "| 1.A.43.F.5 | 1 | A | 43 | F | 5 | 105 |\n",
       "\n"
      ],
      "text/plain": [
       "           Subject TRT Age Sex Time DBP\n",
       "1.A.43.F.1 1       A   43  F   1    114\n",
       "1.A.43.F.2 1       A   43  F   2    115\n",
       "1.A.43.F.3 1       A   43  F   3    113\n",
       "1.A.43.F.4 1       A   43  F   4    109\n",
       "1.A.43.F.5 1       A   43  F   5    105"
      ]
     },
     "metadata": {},
     "output_type": "display_data"
    }
   ],
   "source": [
    "subject1"
   ]
  },
  {
   "cell_type": "code",
   "execution_count": 137,
   "id": "0786fae5",
   "metadata": {},
   "outputs": [
    {
     "data": {
      "text/html": [
       "<strong>null device:</strong> 1"
      ],
      "text/latex": [
       "\\textbf{null device:} 1"
      ],
      "text/markdown": [
       "**null device:** 1"
      ],
      "text/plain": [
       "null device \n",
       "          1 "
      ]
     },
     "metadata": {},
     "output_type": "display_data"
    }
   ],
   "source": [
    "dev.off() # Resetting par Options Using dev.off() Function"
   ]
  },
  {
   "cell_type": "code",
   "execution_count": 138,
   "id": "85defe02",
   "metadata": {},
   "outputs": [
    {
     "data": {
      "image/png": "[encoded data removed]",
      "text/plain": [
       "plot without title"
      ]
     },
     "metadata": {
      "image/png": {
       "height": 420,
       "width": 420
      }
     },
     "output_type": "display_data"
    }
   ],
   "source": [
    "options(repr.plot.width=7, repr.plot.height=7)\n",
    "plot(subject1$DBP, type = \"b\", pch = 19, ylab=\"DBP of Subject 1 with TRT=A\", xlab='Time')"
   ]
  },
  {
   "cell_type": "markdown",
   "id": "4b71bf81",
   "metadata": {},
   "source": [
    "#### Figure 6.2: DBP as a Function of Time Grouped for All Patients"
   ]
  },
  {
   "cell_type": "code",
   "execution_count": 139,
   "id": "cee4357c",
   "metadata": {},
   "outputs": [
    {
     "data": {
      "image/png": "[encoded data removed]",
      "text/plain": [
       "plot without title"
      ]
     },
     "metadata": {
      "image/png": {
       "height": 600,
       "width": 1200
      }
     },
     "output_type": "display_data"
    }
   ],
   "source": [
    "options(repr.plot.width=20, repr.plot.height=10)\n",
    "print(xyplot(DBP ~ Time|TRT, type=\"l\", Dat, groups=as.factor(Subject)))"
   ]
  },
  {
   "cell_type": "markdown",
   "id": "250fb388",
   "metadata": {},
   "source": [
    "We can observe that on average DBP declines at a faster rate in treatment A than in treatment B. Also, the magnitude of the decline in treatment A is greather than in treatment B. However, the 40 patients has different rate and extent of decline."
   ]
  },
  {
   "cell_type": "markdown",
   "id": "60060318",
   "metadata": {},
   "source": [
    "#### Figure 6.3: Boxplot by Treatments"
   ]
  },
  {
   "cell_type": "code",
   "execution_count": 140,
   "id": "53502dde",
   "metadata": {},
   "outputs": [
    {
     "data": {
      "image/png": "[encoded data removed]",
      "text/plain": [
       "plot without title"
      ]
     },
     "metadata": {
      "image/png": {
       "height": 600,
       "width": 1200
      }
     },
     "output_type": "display_data"
    }
   ],
   "source": [
    "options(repr.plot.width=20, repr.plot.height=10)\n",
    "print(bwplot(DBP ~ as.factor(Time)|TRT, Dat, xlab='Time'))"
   ]
  },
  {
   "cell_type": "markdown",
   "id": "3d0772e6",
   "metadata": {},
   "source": [
    "Again, we note that the rate and extent of the decline in DBP is greater in treatment group A than in treatment group B. "
   ]
  },
  {
   "cell_type": "markdown",
   "id": "4efb8f95",
   "metadata": {},
   "source": [
    "#### We now further investigate the declining trend by estimating the slope and intercept for each patient."
   ]
  },
  {
   "cell_type": "markdown",
   "id": "a31d4bf4",
   "metadata": {},
   "source": [
    "We first loop-over the 40 patients to fit linear regressions and then extract the intercepts and slopes to make  a dataframe."
   ]
  },
  {
   "cell_type": "code",
   "execution_count": 141,
   "id": "cac35cdc",
   "metadata": {},
   "outputs": [],
   "source": [
    "num.Subj <- 40"
   ]
  },
  {
   "cell_type": "code",
   "execution_count": 142,
   "id": "91ef2448",
   "metadata": {},
   "outputs": [],
   "source": [
    "# initiate the intercept and slope\n",
    "intercept = slope = numeric(num.Subj)"
   ]
  },
  {
   "cell_type": "code",
   "execution_count": 143,
   "id": "b41c71bd",
   "metadata": {},
   "outputs": [],
   "source": [
    "# loop - over\n",
    "for (i in 1:num.Subj) { \n",
    "    mod <- lm(DBP ~ Time, Dat[Dat$Subject==i,]) # fit regression model\n",
    "    intercept[i] <- coef(mod)[1] # extract the intercept\n",
    "    slope[i] <- coef(mod)[2] # extract the slope\n",
    "}"
   ]
  },
  {
   "cell_type": "code",
   "execution_count": 144,
   "id": "93a74c45",
   "metadata": {},
   "outputs": [],
   "source": [
    "dat.coef <- data.frame(Subject=dat$Subject, TRT=dat$TRT, Intercept=intercept, Slope=slope)"
   ]
  },
  {
   "cell_type": "code",
   "execution_count": 145,
   "id": "0960d26a",
   "metadata": {},
   "outputs": [
    {
     "data": {
      "text/html": [
       "<table class=\"dataframe\">\n",
       "<caption>A data.frame: 40 × 4</caption>\n",
       "<thead>\n",
       "\t<tr><th scope=col>Subject</th><th scope=col>TRT</th><th scope=col>Intercept</th><th scope=col>Slope</th></tr>\n",
       "\t<tr><th scope=col>&lt;int&gt;</th><th scope=col>&lt;chr&gt;</th><th scope=col>&lt;dbl&gt;</th><th scope=col>&lt;dbl&gt;</th></tr>\n",
       "</thead>\n",
       "<tbody>\n",
       "\t<tr><td> 1</td><td>A</td><td>118.4</td><td>-2.4</td></tr>\n",
       "\t<tr><td> 2</td><td>A</td><td>121.0</td><td>-4.0</td></tr>\n",
       "\t<tr><td> 3</td><td>A</td><td>125.7</td><td>-5.3</td></tr>\n",
       "\t<tr><td> 4</td><td>A</td><td>119.6</td><td>-3.2</td></tr>\n",
       "\t<tr><td> 5</td><td>A</td><td>117.8</td><td>-3.0</td></tr>\n",
       "\t<tr><td> 6</td><td>A</td><td>121.0</td><td>-3.8</td></tr>\n",
       "\t<tr><td> 7</td><td>A</td><td>119.4</td><td>-4.0</td></tr>\n",
       "\t<tr><td> 8</td><td>A</td><td>125.1</td><td>-4.9</td></tr>\n",
       "\t<tr><td> 9</td><td>A</td><td>117.7</td><td>-2.5</td></tr>\n",
       "\t<tr><td>10</td><td>A</td><td>120.7</td><td>-4.3</td></tr>\n",
       "\t<tr><td>11</td><td>A</td><td>120.3</td><td>-3.5</td></tr>\n",
       "\t<tr><td>12</td><td>A</td><td>121.2</td><td>-3.4</td></tr>\n",
       "\t<tr><td>13</td><td>A</td><td>123.5</td><td>-4.1</td></tr>\n",
       "\t<tr><td>14</td><td>A</td><td>124.7</td><td>-5.1</td></tr>\n",
       "\t<tr><td>15</td><td>A</td><td>118.3</td><td>-3.3</td></tr>\n",
       "\t<tr><td>16</td><td>A</td><td>118.2</td><td>-3.2</td></tr>\n",
       "\t<tr><td>17</td><td>A</td><td>121.0</td><td>-3.6</td></tr>\n",
       "\t<tr><td>18</td><td>A</td><td>124.2</td><td>-4.2</td></tr>\n",
       "\t<tr><td>19</td><td>A</td><td>119.1</td><td>-3.7</td></tr>\n",
       "\t<tr><td>20</td><td>A</td><td>122.4</td><td>-3.8</td></tr>\n",
       "\t<tr><td>21</td><td>B</td><td>115.0</td><td>-0.6</td></tr>\n",
       "\t<tr><td>22</td><td>B</td><td>117.7</td><td>-1.7</td></tr>\n",
       "\t<tr><td>23</td><td>B</td><td>116.6</td><td>-1.4</td></tr>\n",
       "\t<tr><td>24</td><td>B</td><td>113.9</td><td> 0.1</td></tr>\n",
       "\t<tr><td>25</td><td>B</td><td>117.4</td><td>-1.8</td></tr>\n",
       "\t<tr><td>26</td><td>B</td><td>116.4</td><td>-1.2</td></tr>\n",
       "\t<tr><td>27</td><td>B</td><td>120.1</td><td>-0.9</td></tr>\n",
       "\t<tr><td>28</td><td>B</td><td>119.9</td><td>-1.3</td></tr>\n",
       "\t<tr><td>29</td><td>B</td><td>116.2</td><td>-1.6</td></tr>\n",
       "\t<tr><td>30</td><td>B</td><td>119.6</td><td>-1.6</td></tr>\n",
       "\t<tr><td>31</td><td>B</td><td>116.3</td><td>-0.5</td></tr>\n",
       "\t<tr><td>32</td><td>B</td><td>118.9</td><td>-2.1</td></tr>\n",
       "\t<tr><td>33</td><td>B</td><td>122.3</td><td>-1.7</td></tr>\n",
       "\t<tr><td>34</td><td>B</td><td>117.7</td><td>-1.1</td></tr>\n",
       "\t<tr><td>35</td><td>B</td><td>119.9</td><td>-1.7</td></tr>\n",
       "\t<tr><td>36</td><td>B</td><td>119.9</td><td>-1.7</td></tr>\n",
       "\t<tr><td>37</td><td>B</td><td>117.9</td><td>-1.9</td></tr>\n",
       "\t<tr><td>38</td><td>B</td><td>116.9</td><td>-0.9</td></tr>\n",
       "\t<tr><td>39</td><td>B</td><td>116.3</td><td>-0.5</td></tr>\n",
       "\t<tr><td>40</td><td>B</td><td>116.8</td><td>-0.6</td></tr>\n",
       "</tbody>\n",
       "</table>\n"
      ],
      "text/latex": [
       "A data.frame: 40 × 4\n",
       "\\begin{tabular}{llll}\n",
       " Subject & TRT & Intercept & Slope\\\\\n",
       " <int> & <chr> & <dbl> & <dbl>\\\\\n",
       "\\hline\n",
       "\t  1 & A & 118.4 & -2.4\\\\\n",
       "\t  2 & A & 121.0 & -4.0\\\\\n",
       "\t  3 & A & 125.7 & -5.3\\\\\n",
       "\t  4 & A & 119.6 & -3.2\\\\\n",
       "\t  5 & A & 117.8 & -3.0\\\\\n",
       "\t  6 & A & 121.0 & -3.8\\\\\n",
       "\t  7 & A & 119.4 & -4.0\\\\\n",
       "\t  8 & A & 125.1 & -4.9\\\\\n",
       "\t  9 & A & 117.7 & -2.5\\\\\n",
       "\t 10 & A & 120.7 & -4.3\\\\\n",
       "\t 11 & A & 120.3 & -3.5\\\\\n",
       "\t 12 & A & 121.2 & -3.4\\\\\n",
       "\t 13 & A & 123.5 & -4.1\\\\\n",
       "\t 14 & A & 124.7 & -5.1\\\\\n",
       "\t 15 & A & 118.3 & -3.3\\\\\n",
       "\t 16 & A & 118.2 & -3.2\\\\\n",
       "\t 17 & A & 121.0 & -3.6\\\\\n",
       "\t 18 & A & 124.2 & -4.2\\\\\n",
       "\t 19 & A & 119.1 & -3.7\\\\\n",
       "\t 20 & A & 122.4 & -3.8\\\\\n",
       "\t 21 & B & 115.0 & -0.6\\\\\n",
       "\t 22 & B & 117.7 & -1.7\\\\\n",
       "\t 23 & B & 116.6 & -1.4\\\\\n",
       "\t 24 & B & 113.9 &  0.1\\\\\n",
       "\t 25 & B & 117.4 & -1.8\\\\\n",
       "\t 26 & B & 116.4 & -1.2\\\\\n",
       "\t 27 & B & 120.1 & -0.9\\\\\n",
       "\t 28 & B & 119.9 & -1.3\\\\\n",
       "\t 29 & B & 116.2 & -1.6\\\\\n",
       "\t 30 & B & 119.6 & -1.6\\\\\n",
       "\t 31 & B & 116.3 & -0.5\\\\\n",
       "\t 32 & B & 118.9 & -2.1\\\\\n",
       "\t 33 & B & 122.3 & -1.7\\\\\n",
       "\t 34 & B & 117.7 & -1.1\\\\\n",
       "\t 35 & B & 119.9 & -1.7\\\\\n",
       "\t 36 & B & 119.9 & -1.7\\\\\n",
       "\t 37 & B & 117.9 & -1.9\\\\\n",
       "\t 38 & B & 116.9 & -0.9\\\\\n",
       "\t 39 & B & 116.3 & -0.5\\\\\n",
       "\t 40 & B & 116.8 & -0.6\\\\\n",
       "\\end{tabular}\n"
      ],
      "text/markdown": [
       "\n",
       "A data.frame: 40 × 4\n",
       "\n",
       "| Subject &lt;int&gt; | TRT &lt;chr&gt; | Intercept &lt;dbl&gt; | Slope &lt;dbl&gt; |\n",
       "|---|---|---|---|\n",
       "|  1 | A | 118.4 | -2.4 |\n",
       "|  2 | A | 121.0 | -4.0 |\n",
       "|  3 | A | 125.7 | -5.3 |\n",
       "|  4 | A | 119.6 | -3.2 |\n",
       "|  5 | A | 117.8 | -3.0 |\n",
       "|  6 | A | 121.0 | -3.8 |\n",
       "|  7 | A | 119.4 | -4.0 |\n",
       "|  8 | A | 125.1 | -4.9 |\n",
       "|  9 | A | 117.7 | -2.5 |\n",
       "| 10 | A | 120.7 | -4.3 |\n",
       "| 11 | A | 120.3 | -3.5 |\n",
       "| 12 | A | 121.2 | -3.4 |\n",
       "| 13 | A | 123.5 | -4.1 |\n",
       "| 14 | A | 124.7 | -5.1 |\n",
       "| 15 | A | 118.3 | -3.3 |\n",
       "| 16 | A | 118.2 | -3.2 |\n",
       "| 17 | A | 121.0 | -3.6 |\n",
       "| 18 | A | 124.2 | -4.2 |\n",
       "| 19 | A | 119.1 | -3.7 |\n",
       "| 20 | A | 122.4 | -3.8 |\n",
       "| 21 | B | 115.0 | -0.6 |\n",
       "| 22 | B | 117.7 | -1.7 |\n",
       "| 23 | B | 116.6 | -1.4 |\n",
       "| 24 | B | 113.9 |  0.1 |\n",
       "| 25 | B | 117.4 | -1.8 |\n",
       "| 26 | B | 116.4 | -1.2 |\n",
       "| 27 | B | 120.1 | -0.9 |\n",
       "| 28 | B | 119.9 | -1.3 |\n",
       "| 29 | B | 116.2 | -1.6 |\n",
       "| 30 | B | 119.6 | -1.6 |\n",
       "| 31 | B | 116.3 | -0.5 |\n",
       "| 32 | B | 118.9 | -2.1 |\n",
       "| 33 | B | 122.3 | -1.7 |\n",
       "| 34 | B | 117.7 | -1.1 |\n",
       "| 35 | B | 119.9 | -1.7 |\n",
       "| 36 | B | 119.9 | -1.7 |\n",
       "| 37 | B | 117.9 | -1.9 |\n",
       "| 38 | B | 116.9 | -0.9 |\n",
       "| 39 | B | 116.3 | -0.5 |\n",
       "| 40 | B | 116.8 | -0.6 |\n",
       "\n"
      ],
      "text/plain": [
       "   Subject TRT Intercept Slope\n",
       "1   1      A   118.4     -2.4 \n",
       "2   2      A   121.0     -4.0 \n",
       "3   3      A   125.7     -5.3 \n",
       "4   4      A   119.6     -3.2 \n",
       "5   5      A   117.8     -3.0 \n",
       "6   6      A   121.0     -3.8 \n",
       "7   7      A   119.4     -4.0 \n",
       "8   8      A   125.1     -4.9 \n",
       "9   9      A   117.7     -2.5 \n",
       "10 10      A   120.7     -4.3 \n",
       "11 11      A   120.3     -3.5 \n",
       "12 12      A   121.2     -3.4 \n",
       "13 13      A   123.5     -4.1 \n",
       "14 14      A   124.7     -5.1 \n",
       "15 15      A   118.3     -3.3 \n",
       "16 16      A   118.2     -3.2 \n",
       "17 17      A   121.0     -3.6 \n",
       "18 18      A   124.2     -4.2 \n",
       "19 19      A   119.1     -3.7 \n",
       "20 20      A   122.4     -3.8 \n",
       "21 21      B   115.0     -0.6 \n",
       "22 22      B   117.7     -1.7 \n",
       "23 23      B   116.6     -1.4 \n",
       "24 24      B   113.9      0.1 \n",
       "25 25      B   117.4     -1.8 \n",
       "26 26      B   116.4     -1.2 \n",
       "27 27      B   120.1     -0.9 \n",
       "28 28      B   119.9     -1.3 \n",
       "29 29      B   116.2     -1.6 \n",
       "30 30      B   119.6     -1.6 \n",
       "31 31      B   116.3     -0.5 \n",
       "32 32      B   118.9     -2.1 \n",
       "33 33      B   122.3     -1.7 \n",
       "34 34      B   117.7     -1.1 \n",
       "35 35      B   119.9     -1.7 \n",
       "36 36      B   119.9     -1.7 \n",
       "37 37      B   117.9     -1.9 \n",
       "38 38      B   116.9     -0.9 \n",
       "39 39      B   116.3     -0.5 \n",
       "40 40      B   116.8     -0.6 "
      ]
     },
     "metadata": {},
     "output_type": "display_data"
    }
   ],
   "source": [
    "dat.coef"
   ]
  },
  {
   "cell_type": "code",
   "execution_count": 146,
   "id": "9c7a55f4",
   "metadata": {},
   "outputs": [
    {
     "data": {
      "text/html": [
       "119.375"
      ],
      "text/latex": [
       "119.375"
      ],
      "text/markdown": [
       "119.375"
      ],
      "text/plain": [
       "[1] 119.375"
      ]
     },
     "metadata": {},
     "output_type": "display_data"
    },
    {
     "data": {
      "text/html": [
       "-2.5"
      ],
      "text/latex": [
       "-2.5"
      ],
      "text/markdown": [
       "-2.5"
      ],
      "text/plain": [
       "[1] -2.5"
      ]
     },
     "metadata": {},
     "output_type": "display_data"
    }
   ],
   "source": [
    "mean(dat.coef$Intercept)\n",
    "mean(dat.coef$Slope)"
   ]
  },
  {
   "cell_type": "markdown",
   "id": "7443568c",
   "metadata": {},
   "source": [
    "The intercepts vary about 120 mmHg with a lope of about -2.5 mmHg/month."
   ]
  },
  {
   "cell_type": "markdown",
   "id": "09b4360f",
   "metadata": {},
   "source": [
    "#### Figure 6.4: Bivariate Plot for Intercept and Slope"
   ]
  },
  {
   "cell_type": "markdown",
   "id": "ff55c14b",
   "metadata": {},
   "source": [
    "We can draw a bivariate plot of the intercept and slope from the 40 patients."
   ]
  },
  {
   "cell_type": "code",
   "execution_count": 147,
   "id": "1325f552",
   "metadata": {},
   "outputs": [
    {
     "data": {
      "image/png": "[encoded data removed]",
      "text/plain": [
       "plot without title"
      ]
     },
     "metadata": {
      "image/png": {
       "height": 900,
       "width": 900
      }
     },
     "output_type": "display_data"
    }
   ],
   "source": [
    "options(repr.plot.width=15,repr.plot.height=15)\n",
    "\n",
    "# Make histogram for both intercept and slope\n",
    "int.hist = hist(intercept,plot=F)\n",
    "slope.hist = hist(slope,plot=F)\n",
    "\n",
    "# make layout for plotting\n",
    "top=max(c(int.hist$counts, slope.hist$counts))\n",
    "nf =layout(matrix(c(2,0,1,3),2,2,byrow=T),c(3,1),c(1,3),T)\n",
    "par(mar=c(5,4,1,1))\n",
    "\n",
    "# plot the intercept and slope\n",
    "plot(Slope~Intercept,las=1, data=dat.coef,xlab=\"Intercept\",\n",
    "ylab=\"Slope\",pch=as.character(TRT), cex=2, lwd=2, cex.axis = 2.5, cex.lab = 2.5)\n",
    "\n",
    "par(mar=c(0,4,1,1))\n",
    "# add the intercept and slope histograms\n",
    "barplot(int.hist$counts, axes=FALSE,ylim=c(0,top),space=0)\n",
    "par(mar=c(5,0,1,1))\n",
    "barplot(slope.hist$counts,axes=FALSE,xlim=c(0,top),\n",
    "space=0,horiz=TRUE)\n"
   ]
  },
  {
   "cell_type": "markdown",
   "id": "bc869c6e",
   "metadata": {},
   "source": [
    "We see that the slope of A declines faster than the slope of B. The variations embedded in the intercept and slope illustrate the modeling of random-effects for both intercept and slope.\n",
    "\n",
    "We now model the slope and intercept relationshps by a linear regression. "
   ]
  },
  {
   "cell_type": "markdown",
   "id": "8738a7ea",
   "metadata": {},
   "source": [
    "#### Fit model1 with interaction term "
   ]
  },
  {
   "cell_type": "code",
   "execution_count": 148,
   "id": "d0e3f1af",
   "metadata": {
    "scrolled": true
   },
   "outputs": [
    {
     "data": {
      "text/plain": [
       "\n",
       "Call:\n",
       "lm(formula = Slope ~ Intercept * TRT, data = dat.coef)\n",
       "\n",
       "Residuals:\n",
       "     Min       1Q   Median       3Q      Max \n",
       "-0.66359 -0.29475 -0.03143  0.34701  0.75317 \n",
       "\n",
       "Coefficients:\n",
       "               Estimate Std. Error t value Pr(>|t|)    \n",
       "(Intercept)    28.33737    4.68741   6.045 6.04e-07 ***\n",
       "Intercept      -0.26539    0.03874  -6.850 5.17e-08 ***\n",
       "TRTB           -8.29639    7.37956  -1.124    0.268    \n",
       "Intercept:TRTB  0.08475    0.06198   1.367    0.180    \n",
       "---\n",
       "Signif. codes:  0 '***' 0.001 '**' 0.01 '*' 0.05 '.' 0.1 ' ' 1\n",
       "\n",
       "Residual standard error: 0.4293 on 36 degrees of freedom\n",
       "Multiple R-squared:  0.919,\tAdjusted R-squared:  0.9122 \n",
       "F-statistic: 136.1 on 3 and 36 DF,  p-value: < 2.2e-16\n"
      ]
     },
     "metadata": {},
     "output_type": "display_data"
    }
   ],
   "source": [
    "mod1.coef = lm(Slope~Intercept*TRT, dat.coef)\n",
    "summary(mod1.coef)"
   ]
  },
  {
   "cell_type": "markdown",
   "id": "46bace6b",
   "metadata": {},
   "source": [
    "The interaction term Intercept:TRTB is not significantly significant (p-value is 0.268 > $\\alpha$=0.05)"
   ]
  },
  {
   "cell_type": "markdown",
   "id": "5454d76e",
   "metadata": {},
   "source": [
    "#### Fit model 2 without interaction term"
   ]
  },
  {
   "cell_type": "code",
   "execution_count": 149,
   "id": "a50e7687",
   "metadata": {
    "scrolled": true
   },
   "outputs": [
    {
     "data": {
      "text/plain": [
       "\n",
       "Call:\n",
       "lm(formula = Slope ~ Intercept + TRT, data = dat.coef)\n",
       "\n",
       "Residuals:\n",
       "     Min       1Q   Median       3Q      Max \n",
       "-0.73316 -0.38494  0.02806  0.33483  0.87272 \n",
       "\n",
       "Coefficients:\n",
       "            Estimate Std. Error t value Pr(>|t|)    \n",
       "(Intercept) 24.33216    3.70220   6.572 1.06e-07 ***\n",
       "Intercept   -0.23228    0.03059  -7.592 4.68e-09 ***\n",
       "TRTB         1.79136    0.16831  10.643 8.16e-13 ***\n",
       "---\n",
       "Signif. codes:  0 '***' 0.001 '**' 0.01 '*' 0.05 '.' 0.1 ' ' 1\n",
       "\n",
       "Residual standard error: 0.4343 on 37 degrees of freedom\n",
       "Multiple R-squared:  0.9147,\tAdjusted R-squared:  0.9101 \n",
       "F-statistic: 198.5 on 2 and 37 DF,  p-value: < 2.2e-16\n"
      ]
     },
     "metadata": {},
     "output_type": "display_data"
    }
   ],
   "source": [
    "mod2.coef = lm(Slope~Intercept+TRT, dat.coef)\n",
    "summary(mod2.coef)"
   ]
  },
  {
   "cell_type": "markdown",
   "id": "294dd146",
   "metadata": {},
   "source": [
    "From model2, two tretments are significantly different (TRT B). Further analysis of the difference between treatments are performed using the t-test."
   ]
  },
  {
   "cell_type": "code",
   "execution_count": 150,
   "id": "99df07ab",
   "metadata": {},
   "outputs": [
    {
     "data": {
      "text/plain": [
       "\n",
       "\tWelch Two Sample t-test\n",
       "\n",
       "data:  Slope by TRT\n",
       "t = -11.673, df = 35.556, p-value = 1.019e-13\n",
       "alternative hypothesis: true difference in means between group A and group B is not equal to 0\n",
       "95 percent confidence interval:\n",
       " -2.96976 -2.09024\n",
       "sample estimates:\n",
       "mean in group A mean in group B \n",
       "         -3.765          -1.235 \n"
      ]
     },
     "metadata": {},
     "output_type": "display_data"
    }
   ],
   "source": [
    "#test slope difference\n",
    "t.test(Slope ~ TRT, dat.coef)"
   ]
  },
  {
   "cell_type": "code",
   "execution_count": 151,
   "id": "b964c612",
   "metadata": {},
   "outputs": [
    {
     "data": {
      "text/plain": [
       "\n",
       "\tWelch Two Sample t-test\n",
       "\n",
       "data:  Intercept by TRT\n",
       "t = 4.3669, df = 36.266, p-value = 0.0001008\n",
       "alternative hypothesis: true difference in means between group A and group B is not equal to 0\n",
       "95 percent confidence interval:\n",
       " 1.703495 4.656505\n",
       "sample estimates:\n",
       "mean in group A mean in group B \n",
       "        120.965         117.785 \n"
      ]
     },
     "metadata": {},
     "output_type": "display_data"
    }
   ],
   "source": [
    "#test Intercept difference\n",
    "t.test(Intercept ~ TRT, dat.coef)"
   ]
  },
  {
   "cell_type": "markdown",
   "id": "50c5efce",
   "metadata": {},
   "source": [
    "We see that the slope and intercent between group A and group B are significantly different. "
   ]
  },
  {
   "cell_type": "markdown",
   "id": "5faf8294",
   "metadata": {},
   "source": [
    "In the analysis of data from longitudinal clinical trials, we called the preliminary data analysis \"reponse feature\" analysis. We gan get basic summay information through this analysis, but more efficient analysis is necessay including all information from the data in a comprehensive manner. "
   ]
  },
  {
   "cell_type": "markdown",
   "id": "867d5ee5",
   "metadata": {},
   "source": [
    "#### 6.3.1.2  Longitudinal Modeling"
   ]
  },
  {
   "cell_type": "code",
   "execution_count": 152,
   "id": "51124cd7",
   "metadata": {},
   "outputs": [],
   "source": [
    "# install.packages('lme4')\n",
    "# install.packages('lmerTest')"
   ]
  },
  {
   "cell_type": "markdown",
   "id": "ce208eec",
   "metadata": {},
   "source": [
    "We fit \n",
    "* 'Model 1' with TRT-by-Time interaction as random-effcts on the intercept and slope on Time and\n",
    "* Compare it to the 'Model2' with random intercept only"
   ]
  },
  {
   "cell_type": "code",
   "execution_count": 153,
   "id": "3ac583a1",
   "metadata": {},
   "outputs": [],
   "source": [
    "library(lmerTest)"
   ]
  },
  {
   "cell_type": "markdown",
   "id": "bb9df325",
   "metadata": {},
   "source": [
    "#### Fit Model1\n",
    "\n",
    "* DBP : the reponse variable\n",
    "* TRT*Time : Interaction effect\n",
    "* (Time|Subject):  random-effcts on the intercept and slope on Time"
   ]
  },
  {
   "cell_type": "code",
   "execution_count": 154,
   "id": "3009c751",
   "metadata": {},
   "outputs": [
    {
     "data": {
      "text/plain": [
       "Linear mixed model fit by REML. t-tests use Satterthwaite's method [\n",
       "lmerModLmerTest]\n",
       "Formula: DBP ~ TRT * Time + (Time | Subject)\n",
       "   Data: Dat\n",
       "\n",
       "REML criterion at convergence: 875.2\n",
       "\n",
       "Scaled residuals: \n",
       "    Min      1Q  Median      3Q     Max \n",
       "-4.3315 -0.5802 -0.0566  0.5172  2.5636 \n",
       "\n",
       "Random effects:\n",
       " Groups   Name        Variance Std.Dev. Corr \n",
       " Subject  (Intercept) 1.4145   1.189         \n",
       "          Time        0.1163   0.341    -0.42\n",
       " Residual             3.5349   1.880         \n",
       "Number of obs: 200, groups:  Subject, 40\n",
       "\n",
       "Fixed effects:\n",
       "            Estimate Std. Error       df t value Pr(>|t|)    \n",
       "(Intercept) 120.9650     0.5149  38.0077 234.917  < 2e-16 ***\n",
       "TRTB         -3.1800     0.7282  38.0077  -4.367 9.37e-05 ***\n",
       "Time         -3.7650     0.1533  38.0084 -24.565  < 2e-16 ***\n",
       "TRTB:Time     2.5300     0.2168  38.0084  11.672 3.91e-14 ***\n",
       "---\n",
       "Signif. codes:  0 '***' 0.001 '**' 0.01 '*' 0.05 '.' 0.1 ' ' 1\n",
       "\n",
       "Correlation of Fixed Effects:\n",
       "          (Intr) TRTB   Time  \n",
       "TRTB      -0.707              \n",
       "Time      -0.780  0.552       \n",
       "TRTB:Time  0.552 -0.780 -0.707"
      ]
     },
     "metadata": {},
     "output_type": "display_data"
    }
   ],
   "source": [
    "mod1DBP = lmer(DBP ~ TRT*Time + (Time|Subject), data=Dat)\n",
    "summary(mod1DBP)"
   ]
  },
  {
   "cell_type": "markdown",
   "id": "cf1af3e6",
   "metadata": {},
   "source": [
    "Model1 includes an interaction effect between \"TRT\" and \"Time\" with both intercept and slope as random-effect"
   ]
  },
  {
   "cell_type": "markdown",
   "id": "799523d9",
   "metadata": {},
   "source": [
    "#### Fit Model2\n",
    "\n",
    "* DBP : the reponse variable\n",
    "* TRT*Time : Interaction effect\n",
    "* (1|Subject): Random effect (Intercept)"
   ]
  },
  {
   "cell_type": "code",
   "execution_count": 155,
   "id": "131a97f6",
   "metadata": {},
   "outputs": [
    {
     "data": {
      "text/plain": [
       "Linear mixed model fit by REML. t-tests use Satterthwaite's method [\n",
       "lmerModLmerTest]\n",
       "Formula: DBP ~ TRT * Time + (1 | Subject)\n",
       "   Data: Dat\n",
       "\n",
       "REML criterion at convergence: 877.6\n",
       "\n",
       "Scaled residuals: \n",
       "    Min      1Q  Median      3Q     Max \n",
       "-4.2031 -0.5418 -0.0512  0.5541  2.3326 \n",
       "\n",
       "Random effects:\n",
       " Groups   Name        Variance Std.Dev.\n",
       " Subject  (Intercept) 1.377    1.174   \n",
       " Residual             3.815    1.953   \n",
       "Number of obs: 200, groups:  Subject, 40\n",
       "\n",
       "Fixed effects:\n",
       "            Estimate Std. Error       df t value Pr(>|t|)    \n",
       "(Intercept) 120.9650     0.5279 159.1764  229.15  < 2e-16 ***\n",
       "TRTB         -3.1800     0.7466 159.1764   -4.26 3.49e-05 ***\n",
       "Time         -3.7650     0.1381 158.0000  -27.26  < 2e-16 ***\n",
       "TRTB:Time     2.5300     0.1953 158.0000   12.95  < 2e-16 ***\n",
       "---\n",
       "Signif. codes:  0 '***' 0.001 '**' 0.01 '*' 0.05 '.' 0.1 ' ' 1\n",
       "\n",
       "Correlation of Fixed Effects:\n",
       "          (Intr) TRTB   Time  \n",
       "TRTB      -0.707              \n",
       "Time      -0.785  0.555       \n",
       "TRTB:Time  0.555 -0.785 -0.707"
      ]
     },
     "metadata": {},
     "output_type": "display_data"
    }
   ],
   "source": [
    "# Fit Model2\n",
    "# (1|Subject): random intercept since we guess DBP is effected by subjects.\n",
    "mod2DBP = lmer(DBP ~ TRT*Time + (1|Subject), data=Dat)\n",
    "summary(mod2DBP)"
   ]
  },
  {
   "cell_type": "markdown",
   "id": "cda77116",
   "metadata": {},
   "source": [
    "Model2 includes an interaction effect between \"TRT\" and \"Time\" with both intercept as random-effect. "
   ]
  },
  {
   "cell_type": "markdown",
   "id": "6d2d0592",
   "metadata": {},
   "source": [
    "#### Model Comparison"
   ]
  },
  {
   "cell_type": "code",
   "execution_count": 156,
   "id": "e22d9cd5",
   "metadata": {},
   "outputs": [
    {
     "name": "stderr",
     "output_type": "stream",
     "text": [
      "refitting model(s) with ML (instead of REML)\n",
      "\n"
     ]
    },
    {
     "data": {
      "text/html": [
       "<table class=\"dataframe\">\n",
       "<caption>A anova: 2 × 8</caption>\n",
       "<thead>\n",
       "\t<tr><th></th><th scope=col>npar</th><th scope=col>AIC</th><th scope=col>BIC</th><th scope=col>logLik</th><th scope=col>deviance</th><th scope=col>Chisq</th><th scope=col>Df</th><th scope=col>Pr(&gt;Chisq)</th></tr>\n",
       "\t<tr><th></th><th scope=col>&lt;dbl&gt;</th><th scope=col>&lt;dbl&gt;</th><th scope=col>&lt;dbl&gt;</th><th scope=col>&lt;dbl&gt;</th><th scope=col>&lt;dbl&gt;</th><th scope=col>&lt;dbl&gt;</th><th scope=col>&lt;dbl&gt;</th><th scope=col>&lt;dbl&gt;</th></tr>\n",
       "</thead>\n",
       "<tbody>\n",
       "\t<tr><th scope=row>mod2DBP</th><td>6</td><td>884.5423</td><td>904.3322</td><td>-436.2711</td><td>872.5423</td><td>      NA</td><td>NA</td><td>       NA</td></tr>\n",
       "\t<tr><th scope=row>mod1DBP</th><td>8</td><td>886.4223</td><td>912.8088</td><td>-435.2111</td><td>870.4223</td><td>2.119995</td><td> 2</td><td>0.3464567</td></tr>\n",
       "</tbody>\n",
       "</table>\n"
      ],
      "text/latex": [
       "A anova: 2 × 8\n",
       "\\begin{tabular}{r|llllllll}\n",
       "  & npar & AIC & BIC & logLik & deviance & Chisq & Df & Pr(>Chisq)\\\\\n",
       "  & <dbl> & <dbl> & <dbl> & <dbl> & <dbl> & <dbl> & <dbl> & <dbl>\\\\\n",
       "\\hline\n",
       "\tmod2DBP & 6 & 884.5423 & 904.3322 & -436.2711 & 872.5423 &       NA & NA &        NA\\\\\n",
       "\tmod1DBP & 8 & 886.4223 & 912.8088 & -435.2111 & 870.4223 & 2.119995 &  2 & 0.3464567\\\\\n",
       "\\end{tabular}\n"
      ],
      "text/markdown": [
       "\n",
       "A anova: 2 × 8\n",
       "\n",
       "| <!--/--> | npar &lt;dbl&gt; | AIC &lt;dbl&gt; | BIC &lt;dbl&gt; | logLik &lt;dbl&gt; | deviance &lt;dbl&gt; | Chisq &lt;dbl&gt; | Df &lt;dbl&gt; | Pr(&gt;Chisq) &lt;dbl&gt; |\n",
       "|---|---|---|---|---|---|---|---|---|\n",
       "| mod2DBP | 6 | 884.5423 | 904.3322 | -436.2711 | 872.5423 |       NA | NA |        NA |\n",
       "| mod1DBP | 8 | 886.4223 | 912.8088 | -435.2111 | 870.4223 | 2.119995 |  2 | 0.3464567 |\n",
       "\n"
      ],
      "text/plain": [
       "        npar AIC      BIC      logLik    deviance Chisq    Df Pr(>Chisq)\n",
       "mod2DBP 6    884.5423 904.3322 -436.2711 872.5423       NA NA        NA \n",
       "mod1DBP 8    886.4223 912.8088 -435.2111 870.4223 2.119995  2 0.3464567 "
      ]
     },
     "metadata": {},
     "output_type": "display_data"
    }
   ],
   "source": [
    "anova(mod1DBP, mod2DBP)"
   ]
  },
  {
   "cell_type": "markdown",
   "id": "c2e8123e",
   "metadata": {},
   "source": [
    "We note that the p-value is 0.35, which means that these two models are not statiscally significantly different. The simpler \"Model2\" is thus recommended."
   ]
  },
  {
   "cell_type": "markdown",
   "id": "23460a9b",
   "metadata": {},
   "source": [
    "#### Further investigate - Model3\n",
    "\n",
    "* DBP : the reponse variable\n",
    "* TRT, Time : explanatory variables\n",
    "* (Time|Subject): random-effcts on the intercept and slope on Time"
   ]
  },
  {
   "cell_type": "code",
   "execution_count": 157,
   "id": "55321194",
   "metadata": {},
   "outputs": [
    {
     "name": "stderr",
     "output_type": "stream",
     "text": [
      "Warning message in checkConv(attr(opt, \"derivs\"), opt$par, ctrl = control$checkConv, :\n",
      "\"Model failed to converge with max|grad| = 0.00421966 (tol = 0.002, component 1)\"\n"
     ]
    },
    {
     "data": {
      "text/plain": [
       "Linear mixed model fit by REML. t-tests use Satterthwaite's method [\n",
       "lmerModLmerTest]\n",
       "Formula: DBP ~ TRT + Time + (Time | Subject)\n",
       "   Data: Dat\n",
       "\n",
       "REML criterion at convergence: 933.4\n",
       "\n",
       "Scaled residuals: \n",
       "    Min      1Q  Median      3Q     Max \n",
       "-4.3319 -0.5517 -0.0048  0.5203  2.5241 \n",
       "\n",
       "Random effects:\n",
       " Groups   Name        Variance Std.Dev. Corr \n",
       " Subject  (Intercept) 12.629   3.554         \n",
       "          Time         1.747   1.322    -0.95\n",
       " Residual              3.534   1.880         \n",
       "Number of obs: 200, groups:  Subject, 40\n",
       "\n",
       "Fixed effects:\n",
       "            Estimate Std. Error       df t value Pr(>|t|)    \n",
       "(Intercept) 117.6478     0.6817  26.8837 172.572  < 2e-16 ***\n",
       "TRTB          3.4543     0.4555  37.9782   7.584 4.05e-09 ***\n",
       "Time         -2.5000     0.2291  38.9696 -10.910 2.07e-13 ***\n",
       "---\n",
       "Signif. codes:  0 '***' 0.001 '**' 0.01 '*' 0.05 '.' 0.1 ' ' 1\n",
       "\n",
       "Correlation of Fixed Effects:\n",
       "     (Intr) TRTB  \n",
       "TRTB -0.334       \n",
       "Time -0.881  0.000\n",
       "optimizer (nloptwrap) convergence code: 0 (OK)\n",
       "Model failed to converge with max|grad| = 0.00421966 (tol = 0.002, component 1)\n"
      ]
     },
     "metadata": {},
     "output_type": "display_data"
    }
   ],
   "source": [
    "mod3DBP = lmer(DBP ~ TRT + Time + (Time|Subject), data=Dat)\n",
    "summary(mod3DBP)"
   ]
  },
  {
   "cell_type": "markdown",
   "id": "1c916f14",
   "metadata": {},
   "source": [
    "#### Further investigate - Model4\n",
    "\n",
    "* DBP : the reponse variable\n",
    "* TRT, Time : explanatory variables\n",
    "* (1|Subject): Random effect (Intercept)"
   ]
  },
  {
   "cell_type": "code",
   "execution_count": 158,
   "id": "fa902dbb",
   "metadata": {},
   "outputs": [
    {
     "data": {
      "text/plain": [
       "Linear mixed model fit by REML. t-tests use Satterthwaite's method [\n",
       "lmerModLmerTest]\n",
       "Formula: DBP ~ TRT + Time + (1 | Subject)\n",
       "   Data: Dat\n",
       "\n",
       "REML criterion at convergence: 991.3\n",
       "\n",
       "Scaled residuals: \n",
       "    Min      1Q  Median      3Q     Max \n",
       "-3.2399 -0.6380 -0.0322  0.7782  2.1059 \n",
       "\n",
       "Random effects:\n",
       " Groups   Name        Variance Std.Dev.\n",
       " Subject  (Intercept) 0.5771   0.7597  \n",
       " Residual             7.8164   2.7958  \n",
       "Number of obs: 200, groups:  Subject, 40\n",
       "\n",
       "Fixed effects:\n",
       "            Estimate Std. Error       df t value Pr(>|t|)    \n",
       "(Intercept) 117.1700     0.5319 161.3666 220.298  < 2e-16 ***\n",
       "TRTB          4.4100     0.4626  38.0000   9.532 1.27e-11 ***\n",
       "Time         -2.5000     0.1398 159.0000 -17.884  < 2e-16 ***\n",
       "---\n",
       "Signif. codes:  0 '***' 0.001 '**' 0.01 '*' 0.05 '.' 0.1 ' ' 1\n",
       "\n",
       "Correlation of Fixed Effects:\n",
       "     (Intr) TRTB  \n",
       "TRTB -0.435       \n",
       "Time -0.788  0.000"
      ]
     },
     "metadata": {},
     "output_type": "display_data"
    }
   ],
   "source": [
    "mod4DBP = lmer(DBP ~ TRT + Time + (1|Subject), data=Dat)\n",
    "summary(mod4DBP)"
   ]
  },
  {
   "cell_type": "markdown",
   "id": "5c397547",
   "metadata": {},
   "source": [
    "#### Model Comparison"
   ]
  },
  {
   "cell_type": "code",
   "execution_count": 159,
   "id": "5d389f9d",
   "metadata": {},
   "outputs": [
    {
     "name": "stderr",
     "output_type": "stream",
     "text": [
      "refitting model(s) with ML (instead of REML)\n",
      "\n"
     ]
    },
    {
     "data": {
      "text/html": [
       "<table class=\"dataframe\">\n",
       "<caption>A anova: 2 × 8</caption>\n",
       "<thead>\n",
       "\t<tr><th></th><th scope=col>npar</th><th scope=col>AIC</th><th scope=col>BIC</th><th scope=col>logLik</th><th scope=col>deviance</th><th scope=col>Chisq</th><th scope=col>Df</th><th scope=col>Pr(&gt;Chisq)</th></tr>\n",
       "\t<tr><th></th><th scope=col>&lt;dbl&gt;</th><th scope=col>&lt;dbl&gt;</th><th scope=col>&lt;dbl&gt;</th><th scope=col>&lt;dbl&gt;</th><th scope=col>&lt;dbl&gt;</th><th scope=col>&lt;dbl&gt;</th><th scope=col>&lt;dbl&gt;</th><th scope=col>&lt;dbl&gt;</th></tr>\n",
       "</thead>\n",
       "<tbody>\n",
       "\t<tr><th scope=row>mod4DBP</th><td>5</td><td>998.3321</td><td>1014.8236</td><td>-494.1660</td><td>988.3321</td><td>      NA</td><td>NA</td><td>          NA</td></tr>\n",
       "\t<tr><th scope=row>mod3DBP</th><td>7</td><td>945.3403</td><td> 968.4286</td><td>-465.6702</td><td>931.3403</td><td>56.99172</td><td> 2</td><td>4.211191e-13</td></tr>\n",
       "</tbody>\n",
       "</table>\n"
      ],
      "text/latex": [
       "A anova: 2 × 8\n",
       "\\begin{tabular}{r|llllllll}\n",
       "  & npar & AIC & BIC & logLik & deviance & Chisq & Df & Pr(>Chisq)\\\\\n",
       "  & <dbl> & <dbl> & <dbl> & <dbl> & <dbl> & <dbl> & <dbl> & <dbl>\\\\\n",
       "\\hline\n",
       "\tmod4DBP & 5 & 998.3321 & 1014.8236 & -494.1660 & 988.3321 &       NA & NA &           NA\\\\\n",
       "\tmod3DBP & 7 & 945.3403 &  968.4286 & -465.6702 & 931.3403 & 56.99172 &  2 & 4.211191e-13\\\\\n",
       "\\end{tabular}\n"
      ],
      "text/markdown": [
       "\n",
       "A anova: 2 × 8\n",
       "\n",
       "| <!--/--> | npar &lt;dbl&gt; | AIC &lt;dbl&gt; | BIC &lt;dbl&gt; | logLik &lt;dbl&gt; | deviance &lt;dbl&gt; | Chisq &lt;dbl&gt; | Df &lt;dbl&gt; | Pr(&gt;Chisq) &lt;dbl&gt; |\n",
       "|---|---|---|---|---|---|---|---|---|\n",
       "| mod4DBP | 5 | 998.3321 | 1014.8236 | -494.1660 | 988.3321 |       NA | NA |           NA |\n",
       "| mod3DBP | 7 | 945.3403 |  968.4286 | -465.6702 | 931.3403 | 56.99172 |  2 | 4.211191e-13 |\n",
       "\n"
      ],
      "text/plain": [
       "        npar AIC      BIC       logLik    deviance Chisq    Df Pr(>Chisq)  \n",
       "mod4DBP 5    998.3321 1014.8236 -494.1660 988.3321       NA NA           NA\n",
       "mod3DBP 7    945.3403  968.4286 -465.6702 931.3403 56.99172  2 4.211191e-13"
      ]
     },
     "metadata": {},
     "output_type": "display_data"
    }
   ],
   "source": [
    "anova(mod3DBP, mod4DBP)"
   ]
  },
  {
   "cell_type": "markdown",
   "id": "0172a505",
   "metadata": {},
   "source": [
    "Model3 is statiscally significantly different from Model4 as indicated by the small p-value(<0.0001). <br>\n",
    "We further investigate the effects from the covariate (explanatory variaables)"
   ]
  },
  {
   "cell_type": "markdown",
   "id": "29b4a0a8",
   "metadata": {},
   "source": [
    "#### Model3 model\n",
    "\n",
    "The final Model3 corresponds to\n",
    "$$DBP_{i,j,k}=(\\beta_0+\\gamma_{01})+(\\beta_1+\\gamma_{1k})\\times Time_j+TRT_i+\\epsilon_{i,j,k}$$\n",
    "\n",
    "Where\n",
    "* i: treatment A or B\n",
    "* j: times from 1 to 5\n",
    "* k: patients from 1 to 40"
   ]
  },
  {
   "cell_type": "markdown",
   "id": "2bd6c750",
   "metadata": {},
   "source": [
    "We recall the model3 output again. "
   ]
  },
  {
   "cell_type": "code",
   "execution_count": 202,
   "id": "9db038cf",
   "metadata": {},
   "outputs": [],
   "source": [
    "# round(summary(mod3DBP)$coefficients[,1][],3)"
   ]
  },
  {
   "cell_type": "code",
   "execution_count": 203,
   "id": "01b2dd06",
   "metadata": {},
   "outputs": [],
   "source": [
    "fixEffect<-fixef(mod3DBP)\n",
    "randEffect<-as.data.frame(ranef(mod3DBP))"
   ]
  },
  {
   "cell_type": "code",
   "execution_count": 204,
   "id": "55f140b8",
   "metadata": {},
   "outputs": [
    {
     "data": {
      "text/html": [
       "<style>\n",
       ".dl-inline {width: auto; margin:0; padding: 0}\n",
       ".dl-inline>dt, .dl-inline>dd {float: none; width: auto; display: inline-block}\n",
       ".dl-inline>dt::after {content: \":\\0020\"; padding-right: .5ex}\n",
       ".dl-inline>dt:not(:first-of-type) {padding-left: .5ex}\n",
       "</style><dl class=dl-inline><dt>(Intercept)</dt><dd>117.647842454943</dd><dt>TRTB</dt><dd>3.4543150901168</dd><dt>Time</dt><dd>-2.50000000000066</dd></dl>\n"
      ],
      "text/latex": [
       "\\begin{description*}\n",
       "\\item[(Intercept)] 117.647842454943\n",
       "\\item[TRTB] 3.4543150901168\n",
       "\\item[Time] -2.50000000000066\n",
       "\\end{description*}\n"
      ],
      "text/markdown": [
       "(Intercept)\n",
       ":   117.647842454943TRTB\n",
       ":   3.4543150901168Time\n",
       ":   -2.50000000000066\n",
       "\n"
      ],
      "text/plain": [
       "(Intercept)        TRTB        Time \n",
       " 117.647842    3.454315   -2.500000 "
      ]
     },
     "metadata": {},
     "output_type": "display_data"
    }
   ],
   "source": [
    "fixEffect"
   ]
  },
  {
   "cell_type": "markdown",
   "id": "358deb12",
   "metadata": {},
   "source": [
    "The fixed-effects are estimated as \n",
    "* $\\hat{\\beta_0}$ = 117.648 and \n",
    "* $\\hat{\\beta}_{time}$ = -2.5 which indicates that DBP declines at a rate of 2.5 mmHg per month.\n",
    "* $\\hat{\\beta}_{TRT_B}$ = 3.5 is the estimated difference between the rates of declines of treatments B and A is 3.45 mmHg/month. \n",
    "\n",
    "And all parameters are statistically significant. "
   ]
  },
  {
   "cell_type": "markdown",
   "id": "9bff402e",
   "metadata": {},
   "source": [
    "For random-effect, the estimated $\\hat{\\sigma}=3.54$ \n",
    "and\n",
    "$\\hat{D}= \n",
    "\\begin{pmatrix}\n",
    "        12.62 &  -4.44 \\\\\n",
    "        -4.44 &  1.75\n",
    "\\end{pmatrix}\n",
    "$\n",
    "\n",
    "$covariance = -0.95\\times 3.554 \\times 1.322$"
   ]
  },
  {
   "cell_type": "markdown",
   "id": "e1fb6a04",
   "metadata": {},
   "source": [
    "#### Check the normal assumption for the random-effect"
   ]
  },
  {
   "cell_type": "markdown",
   "id": "1308d7cd",
   "metadata": {},
   "source": [
    "We can use the QQ-plot to graph the quantile from the residuals and the theoretical normal"
   ]
  },
  {
   "cell_type": "markdown",
   "id": "eeddb767",
   "metadata": {},
   "source": [
    "#### FIGURE 6.5: QQ-Plot for Model3"
   ]
  },
  {
   "cell_type": "code",
   "execution_count": 206,
   "id": "b1aed5bb",
   "metadata": {},
   "outputs": [
    {
     "data": {
      "image/png": "[encoded data removed]",
      "text/plain": [
       "plot without title"
      ]
     },
     "metadata": {
      "image/png": {
       "height": 900,
       "width": 900
      }
     },
     "output_type": "display_data"
    }
   ],
   "source": [
    "print(qqmath(~resid(mod3DBP)|TRT, Dat, xlab=\"Theoretical Normal\", ylab=\"Residuals\"))"
   ]
  },
  {
   "cell_type": "markdown",
   "id": "cd076dec",
   "metadata": {},
   "source": [
    "The QQ-plot exhibits a straight line for each treatment indicating no violation of the normality assumption."
   ]
  },
  {
   "cell_type": "code",
   "execution_count": 208,
   "id": "017a19e2",
   "metadata": {},
   "outputs": [
    {
     "ename": "ERROR",
     "evalue": "Error in shapiro.test(~resid(mod3DBP) | TRT): is.numeric(x) is not TRUE\n",
     "output_type": "error",
     "traceback": [
      "Error in shapiro.test(~resid(mod3DBP) | TRT): is.numeric(x) is not TRUE\nTraceback:\n",
      "1. shapiro.test(~resid(mod3DBP) | TRT)",
      "2. stopifnot(is.numeric(x))"
     ]
    }
   ],
   "source": [
    "# Add shapiro wilk test\n",
    "shapiro.test()"
   ]
  },
  {
   "cell_type": "markdown",
   "id": "ca15ed8d",
   "metadata": {},
   "source": [
    "#### FIGURE 6.6: Boxplot for Residuals for all Subjects by Treatment"
   ]
  },
  {
   "cell_type": "code",
   "execution_count": 213,
   "id": "8d581d3d",
   "metadata": {},
   "outputs": [
    {
     "data": {
      "image/png": "[encoded data removed]",
      "text/plain": [
       "plot without title"
      ]
     },
     "metadata": {
      "image/png": {
       "height": 900,
       "width": 900
      }
     },
     "output_type": "display_data"
    }
   ],
   "source": [
    "print(bwplot(resid(mod3DBP)~as.factor(Time)|TRT,Dat,\n",
    "xlab=\"Time\",ylim=c(-5,5), ylab=\"Residuals\"))"
   ]
  },
  {
   "cell_type": "markdown",
   "id": "9efec07f",
   "metadata": {},
   "source": [
    "Figure 6.6 indicates that Model3 is reasonable."
   ]
  },
  {
   "cell_type": "markdown",
   "id": "6aca6b30",
   "metadata": {},
   "source": [
    "#### We now investigate the effects of the covariates of \"Age\" and \"Sex\" (Model5 and Model6) from the Model3"
   ]
  },
  {
   "cell_type": "markdown",
   "id": "fb7bb313",
   "metadata": {},
   "source": [
    "#### Model5 - \"Age\" effect"
   ]
  },
  {
   "cell_type": "code",
   "execution_count": 215,
   "id": "76a72f0c",
   "metadata": {},
   "outputs": [
    {
     "name": "stderr",
     "output_type": "stream",
     "text": [
      "boundary (singular) fit: see help('isSingular')\n",
      "\n",
      "Warning message:\n",
      "\"Model failed to converge with 1 negative eigenvalue: -3.5e+01\"\n"
     ]
    }
   ],
   "source": [
    "mod5DBP = lmer(DBP ~ TRT + Time + Age + (Time|Subject), data=Dat)"
   ]
  },
  {
   "cell_type": "markdown",
   "id": "afcaf784",
   "metadata": {},
   "source": [
    "#### Compare Model3 and Model5"
   ]
  },
  {
   "cell_type": "code",
   "execution_count": 217,
   "id": "4aedba65",
   "metadata": {},
   "outputs": [
    {
     "name": "stderr",
     "output_type": "stream",
     "text": [
      "refitting model(s) with ML (instead of REML)\n",
      "\n"
     ]
    },
    {
     "data": {
      "text/html": [
       "<table class=\"dataframe\">\n",
       "<caption>A anova: 2 × 8</caption>\n",
       "<thead>\n",
       "\t<tr><th></th><th scope=col>npar</th><th scope=col>AIC</th><th scope=col>BIC</th><th scope=col>logLik</th><th scope=col>deviance</th><th scope=col>Chisq</th><th scope=col>Df</th><th scope=col>Pr(&gt;Chisq)</th></tr>\n",
       "\t<tr><th></th><th scope=col>&lt;dbl&gt;</th><th scope=col>&lt;dbl&gt;</th><th scope=col>&lt;dbl&gt;</th><th scope=col>&lt;dbl&gt;</th><th scope=col>&lt;dbl&gt;</th><th scope=col>&lt;dbl&gt;</th><th scope=col>&lt;dbl&gt;</th><th scope=col>&lt;dbl&gt;</th></tr>\n",
       "</thead>\n",
       "<tbody>\n",
       "\t<tr><th scope=row>mod3DBP</th><td>7</td><td>945.3403</td><td>968.4286</td><td>-465.6702</td><td>931.3403</td><td>      NA</td><td>NA</td><td>        NA</td></tr>\n",
       "\t<tr><th scope=row>mod5DBP</th><td>8</td><td>943.9820</td><td>970.3686</td><td>-463.9910</td><td>927.9820</td><td>3.358303</td><td> 1</td><td>0.06686695</td></tr>\n",
       "</tbody>\n",
       "</table>\n"
      ],
      "text/latex": [
       "A anova: 2 × 8\n",
       "\\begin{tabular}{r|llllllll}\n",
       "  & npar & AIC & BIC & logLik & deviance & Chisq & Df & Pr(>Chisq)\\\\\n",
       "  & <dbl> & <dbl> & <dbl> & <dbl> & <dbl> & <dbl> & <dbl> & <dbl>\\\\\n",
       "\\hline\n",
       "\tmod3DBP & 7 & 945.3403 & 968.4286 & -465.6702 & 931.3403 &       NA & NA &         NA\\\\\n",
       "\tmod5DBP & 8 & 943.9820 & 970.3686 & -463.9910 & 927.9820 & 3.358303 &  1 & 0.06686695\\\\\n",
       "\\end{tabular}\n"
      ],
      "text/markdown": [
       "\n",
       "A anova: 2 × 8\n",
       "\n",
       "| <!--/--> | npar &lt;dbl&gt; | AIC &lt;dbl&gt; | BIC &lt;dbl&gt; | logLik &lt;dbl&gt; | deviance &lt;dbl&gt; | Chisq &lt;dbl&gt; | Df &lt;dbl&gt; | Pr(&gt;Chisq) &lt;dbl&gt; |\n",
       "|---|---|---|---|---|---|---|---|---|\n",
       "| mod3DBP | 7 | 945.3403 | 968.4286 | -465.6702 | 931.3403 |       NA | NA |         NA |\n",
       "| mod5DBP | 8 | 943.9820 | 970.3686 | -463.9910 | 927.9820 | 3.358303 |  1 | 0.06686695 |\n",
       "\n"
      ],
      "text/plain": [
       "        npar AIC      BIC      logLik    deviance Chisq    Df Pr(>Chisq)\n",
       "mod3DBP 7    945.3403 968.4286 -465.6702 931.3403       NA NA         NA\n",
       "mod5DBP 8    943.9820 970.3686 -463.9910 927.9820 3.358303  1 0.06686695"
      ]
     },
     "metadata": {},
     "output_type": "display_data"
    }
   ],
   "source": [
    "anova(mod3DBP, mod5DBP)"
   ]
  },
  {
   "cell_type": "markdown",
   "id": "208e94d4",
   "metadata": {},
   "source": [
    "We can wee from the \"anova\" that the p-value associated with this test on \"Age\" effect is 0.067 which is not statistically significant.\n",
    "* __However, the Model 5 is significant. I used same code but the result is different.__"
   ]
  },
  {
   "cell_type": "markdown",
   "id": "5753545c",
   "metadata": {},
   "source": [
    "Anyway, we further test \"Sex\" using Model6."
   ]
  },
  {
   "cell_type": "markdown",
   "id": "c538662e",
   "metadata": {},
   "source": [
    "#### Model 6"
   ]
  },
  {
   "cell_type": "code",
   "execution_count": 218,
   "id": "fa4e8957",
   "metadata": {},
   "outputs": [
    {
     "name": "stderr",
     "output_type": "stream",
     "text": [
      "boundary (singular) fit: see help('isSingular')\n",
      "\n"
     ]
    }
   ],
   "source": [
    "mod6DBP = lmer(DBP ~ TRT + Time + Age + Sex + (Time|Subject), data=Dat)"
   ]
  },
  {
   "cell_type": "code",
   "execution_count": 219,
   "id": "faa99593",
   "metadata": {},
   "outputs": [
    {
     "name": "stderr",
     "output_type": "stream",
     "text": [
      "refitting model(s) with ML (instead of REML)\n",
      "\n"
     ]
    },
    {
     "data": {
      "text/html": [
       "<table class=\"dataframe\">\n",
       "<caption>A anova: 2 × 8</caption>\n",
       "<thead>\n",
       "\t<tr><th></th><th scope=col>npar</th><th scope=col>AIC</th><th scope=col>BIC</th><th scope=col>logLik</th><th scope=col>deviance</th><th scope=col>Chisq</th><th scope=col>Df</th><th scope=col>Pr(&gt;Chisq)</th></tr>\n",
       "\t<tr><th></th><th scope=col>&lt;dbl&gt;</th><th scope=col>&lt;dbl&gt;</th><th scope=col>&lt;dbl&gt;</th><th scope=col>&lt;dbl&gt;</th><th scope=col>&lt;dbl&gt;</th><th scope=col>&lt;dbl&gt;</th><th scope=col>&lt;dbl&gt;</th><th scope=col>&lt;dbl&gt;</th></tr>\n",
       "</thead>\n",
       "<tbody>\n",
       "\t<tr><th scope=row>mod5DBP</th><td> 8</td><td>943.982</td><td>970.3686</td><td>-463.991</td><td>927.982</td><td>      NA</td><td>NA</td><td>          NA</td></tr>\n",
       "\t<tr><th scope=row>mod6DBP</th><td>10</td><td>914.232</td><td>947.2152</td><td>-447.116</td><td>894.232</td><td>33.75004</td><td> 2</td><td>4.691081e-08</td></tr>\n",
       "</tbody>\n",
       "</table>\n"
      ],
      "text/latex": [
       "A anova: 2 × 8\n",
       "\\begin{tabular}{r|llllllll}\n",
       "  & npar & AIC & BIC & logLik & deviance & Chisq & Df & Pr(>Chisq)\\\\\n",
       "  & <dbl> & <dbl> & <dbl> & <dbl> & <dbl> & <dbl> & <dbl> & <dbl>\\\\\n",
       "\\hline\n",
       "\tmod5DBP &  8 & 943.982 & 970.3686 & -463.991 & 927.982 &       NA & NA &           NA\\\\\n",
       "\tmod6DBP & 10 & 914.232 & 947.2152 & -447.116 & 894.232 & 33.75004 &  2 & 4.691081e-08\\\\\n",
       "\\end{tabular}\n"
      ],
      "text/markdown": [
       "\n",
       "A anova: 2 × 8\n",
       "\n",
       "| <!--/--> | npar &lt;dbl&gt; | AIC &lt;dbl&gt; | BIC &lt;dbl&gt; | logLik &lt;dbl&gt; | deviance &lt;dbl&gt; | Chisq &lt;dbl&gt; | Df &lt;dbl&gt; | Pr(&gt;Chisq) &lt;dbl&gt; |\n",
       "|---|---|---|---|---|---|---|---|---|\n",
       "| mod5DBP |  8 | 943.982 | 970.3686 | -463.991 | 927.982 |       NA | NA |           NA |\n",
       "| mod6DBP | 10 | 914.232 | 947.2152 | -447.116 | 894.232 | 33.75004 |  2 | 4.691081e-08 |\n",
       "\n"
      ],
      "text/plain": [
       "        npar AIC     BIC      logLik   deviance Chisq    Df Pr(>Chisq)  \n",
       "mod5DBP  8   943.982 970.3686 -463.991 927.982        NA NA           NA\n",
       "mod6DBP 10   914.232 947.2152 -447.116 894.232  33.75004  2 4.691081e-08"
      ]
     },
     "metadata": {},
     "output_type": "display_data"
    }
   ],
   "source": [
    "anova(mod5DBP, mod6DBP)"
   ]
  },
  {
   "cell_type": "markdown",
   "id": "1bcf59d3",
   "metadata": {},
   "source": [
    "This gives p-value of very small (<0.001) indicating that \"Sex\" is statistically significant effect. Note that again, my result and text book are different. Then now I try model7 (Sex effect) comparing model3"
   ]
  },
  {
   "cell_type": "code",
   "execution_count": 220,
   "id": "31e19522",
   "metadata": {},
   "outputs": [],
   "source": [
    "mod7DBP = lmer(DBP ~ TRT + Time + Sex + (Time|Subject), data=Dat)"
   ]
  },
  {
   "cell_type": "code",
   "execution_count": 221,
   "id": "e6fbb237",
   "metadata": {},
   "outputs": [
    {
     "name": "stderr",
     "output_type": "stream",
     "text": [
      "refitting model(s) with ML (instead of REML)\n",
      "\n"
     ]
    },
    {
     "data": {
      "text/html": [
       "<table class=\"dataframe\">\n",
       "<caption>A anova: 2 × 8</caption>\n",
       "<thead>\n",
       "\t<tr><th></th><th scope=col>npar</th><th scope=col>AIC</th><th scope=col>BIC</th><th scope=col>logLik</th><th scope=col>deviance</th><th scope=col>Chisq</th><th scope=col>Df</th><th scope=col>Pr(&gt;Chisq)</th></tr>\n",
       "\t<tr><th></th><th scope=col>&lt;dbl&gt;</th><th scope=col>&lt;dbl&gt;</th><th scope=col>&lt;dbl&gt;</th><th scope=col>&lt;dbl&gt;</th><th scope=col>&lt;dbl&gt;</th><th scope=col>&lt;dbl&gt;</th><th scope=col>&lt;dbl&gt;</th><th scope=col>&lt;dbl&gt;</th></tr>\n",
       "</thead>\n",
       "<tbody>\n",
       "\t<tr><th scope=row>mod3DBP</th><td>7</td><td>945.3403</td><td>968.4286</td><td>-465.6702</td><td>931.3403</td><td>      NA</td><td>NA</td><td>       NA</td></tr>\n",
       "\t<tr><th scope=row>mod7DBP</th><td>9</td><td>948.0729</td><td>977.7577</td><td>-465.0364</td><td>930.0729</td><td>1.267442</td><td> 2</td><td>0.5306138</td></tr>\n",
       "</tbody>\n",
       "</table>\n"
      ],
      "text/latex": [
       "A anova: 2 × 8\n",
       "\\begin{tabular}{r|llllllll}\n",
       "  & npar & AIC & BIC & logLik & deviance & Chisq & Df & Pr(>Chisq)\\\\\n",
       "  & <dbl> & <dbl> & <dbl> & <dbl> & <dbl> & <dbl> & <dbl> & <dbl>\\\\\n",
       "\\hline\n",
       "\tmod3DBP & 7 & 945.3403 & 968.4286 & -465.6702 & 931.3403 &       NA & NA &        NA\\\\\n",
       "\tmod7DBP & 9 & 948.0729 & 977.7577 & -465.0364 & 930.0729 & 1.267442 &  2 & 0.5306138\\\\\n",
       "\\end{tabular}\n"
      ],
      "text/markdown": [
       "\n",
       "A anova: 2 × 8\n",
       "\n",
       "| <!--/--> | npar &lt;dbl&gt; | AIC &lt;dbl&gt; | BIC &lt;dbl&gt; | logLik &lt;dbl&gt; | deviance &lt;dbl&gt; | Chisq &lt;dbl&gt; | Df &lt;dbl&gt; | Pr(&gt;Chisq) &lt;dbl&gt; |\n",
       "|---|---|---|---|---|---|---|---|---|\n",
       "| mod3DBP | 7 | 945.3403 | 968.4286 | -465.6702 | 931.3403 |       NA | NA |        NA |\n",
       "| mod7DBP | 9 | 948.0729 | 977.7577 | -465.0364 | 930.0729 | 1.267442 |  2 | 0.5306138 |\n",
       "\n"
      ],
      "text/plain": [
       "        npar AIC      BIC      logLik    deviance Chisq    Df Pr(>Chisq)\n",
       "mod3DBP 7    945.3403 968.4286 -465.6702 931.3403       NA NA        NA \n",
       "mod7DBP 9    948.0729 977.7577 -465.0364 930.0729 1.267442  2 0.5306138 "
      ]
     },
     "metadata": {},
     "output_type": "display_data"
    }
   ],
   "source": [
    "anova(mod3DBP, mod7DBP)"
   ]
  },
  {
   "cell_type": "markdown",
   "id": "a8814a20",
   "metadata": {},
   "source": [
    "This gives a p-value of 0.53 indicating that \"Sex\" is not a statistically significant effect. In my conclusion, the simpler model3 is recommended."
   ]
  }
 ],
 "metadata": {
  "kernelspec": {
   "display_name": "R",
   "language": "R",
   "name": "ir"
  },
  "language_info": {
   "codemirror_mode": "r",
   "file_extension": ".r",
   "mimetype": "text/x-r-source",
   "name": "R",
   "pygments_lexer": "r",
   "version": "4.1.3"
  }
 },
 "nbformat": 4,
 "nbformat_minor": 5
}
