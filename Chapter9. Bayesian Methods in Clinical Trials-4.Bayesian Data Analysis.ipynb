{
 "cells": [
  {
   "cell_type": "code",
   "execution_count": 5,
   "id": "06becba4",
   "metadata": {},
   "outputs": [
    {
     "name": "stdout",
     "output_type": "stream",
     "text": [
      "Last updated  Wed Oct 19 21:24:01 2022"
     ]
    }
   ],
   "source": [
    "cat('Last updated ', date())"
   ]
  },
  {
   "cell_type": "markdown",
   "id": "d634d5b5",
   "metadata": {},
   "source": [
    "# Clinical Trial Data analysis using R and SAS\n",
    "### Author : Ding-Geng (Din) Chen , Karl E. Peace, Pinggao Zhang"
   ]
  },
  {
   "cell_type": "markdown",
   "id": "520c577f",
   "metadata": {},
   "source": [
    "* Note : This note book is created with R in Jupyter Notebook.\n",
    "* Note : I made this note book while studying the book. Additional R code in addition to the code in the book is added if necessary such that a code is not provided or addntional explanation is needed.  For detail explanation, refer the book"
   ]
  },
  {
   "cell_type": "code",
   "execution_count": 6,
   "id": "50f4205a",
   "metadata": {},
   "outputs": [
    {
     "data": {
      "text/plain": [
       "               _                           \n",
       "platform       x86_64-w64-mingw32          \n",
       "arch           x86_64                      \n",
       "os             mingw32                     \n",
       "system         x86_64, mingw32             \n",
       "status                                     \n",
       "major          4                           \n",
       "minor          1.3                         \n",
       "year           2022                        \n",
       "month          03                          \n",
       "day            10                          \n",
       "svn rev        81868                       \n",
       "language       R                           \n",
       "version.string R version 4.1.3 (2022-03-10)\n",
       "nickname       One Push-Up                 "
      ]
     },
     "metadata": {},
     "output_type": "display_data"
    }
   ],
   "source": [
    "R.version"
   ]
  },
  {
   "cell_type": "code",
   "execution_count": 7,
   "id": "a9a6fa87",
   "metadata": {},
   "outputs": [],
   "source": [
    "setwd('C:/Users/shims/Desktop/Bio-Statistics/Clinical Trial Data Analysis using R')"
   ]
  },
  {
   "cell_type": "markdown",
   "id": "5e36793f",
   "metadata": {},
   "source": [
    "### 9.4 Bayesian Data Analysis\n",
    "#### 9.4.1 Blood Pressure Data: Bayesian Linear Regression"
   ]
  },
  {
   "cell_type": "code",
   "execution_count": 8,
   "id": "3416acce",
   "metadata": {},
   "outputs": [],
   "source": [
    "dat <- read.csv('DBP.csv', header=T)"
   ]
  },
  {
   "cell_type": "code",
   "execution_count": 9,
   "id": "019ecf03",
   "metadata": {},
   "outputs": [],
   "source": [
    "# We are interested in the blood pressure change\n",
    "dat$diff <-dat$DBP5 - dat$DBP1"
   ]
  },
  {
   "cell_type": "markdown",
   "id": "896475f6",
   "metadata": {},
   "source": [
    "<span style=\"color:green;font-weight:700;font-size:15px\">\n",
    "    Quick note\n",
    "</span>"
   ]
  },
  {
   "cell_type": "markdown",
   "id": "8cd24423",
   "metadata": {},
   "source": [
    "We use _MCMCpack_ to analze the data from a Bayesian perspective using MCMC algorithm. Since the data is continuous, we use the function _MCMCregress_ in the _MCMCpack_. The help functions explain MCMC regress details I extract the explanation."
   ]
  },
  {
   "cell_type": "code",
   "execution_count": 10,
   "id": "ee19b971",
   "metadata": {},
   "outputs": [],
   "source": [
    "# ?MCMCregress"
   ]
  },
  {
   "cell_type": "markdown",
   "id": "be6f6849",
   "metadata": {},
   "source": [
    "__MCMCregress__ simulates from the posterior distribution using standard Gibbs sampling (a multivariate Normal draw for the betas, and an inverse Gamma draw for the conditional error variance). \n",
    "\n",
    "The model takes the following form:\n",
    "$$ y_i= x^\\prime _i\\beta + \\epsilon_i $$\n",
    "\n",
    "where the errors are assumed to be Gaussian : \n",
    "$$ \\epsilon_i \\sim N (0, \\sigma^2) $$\n",
    "\n",
    "We assume standard, semi-conjugate prior:\n",
    "$$\\beta \\sim N(b_0, B^{-1}_0)$$\n",
    "\n",
    "And: \n",
    "$$\\sigma^{-2} \\sim Gamma(c_0/2, d_0/2)$$\n",
    "\n",
    "Where $\\beta$ and $\\sigma ^{-2}$ are assumed a priori independent. Note that only starting values for $\\beta$ are allowed because simulation is done using Gibbs sampling with the conditional error variance as the first block in the sampler."
   ]
  },
  {
   "cell_type": "markdown",
   "id": "cc0cfddc",
   "metadata": {},
   "source": [
    "The Bayesinn model with noninformative prior in the typical simple linear regression model is a special case whtn $B_0=0$."
   ]
  },
  {
   "cell_type": "code",
   "execution_count": 11,
   "id": "abd371b5",
   "metadata": {},
   "outputs": [
    {
     "name": "stderr",
     "output_type": "stream",
     "text": [
      "Loading required package: coda\n",
      "\n",
      "Loading required package: MASS\n",
      "\n",
      "##\n",
      "## Markov Chain Monte Carlo Package (MCMCpack)\n",
      "\n",
      "## Copyright (C) 2003-2022 Andrew D. Martin, Kevin M. Quinn, and Jong Hee Park\n",
      "\n",
      "##\n",
      "## Support provided by the U.S. National Science Foundation\n",
      "\n",
      "## (Grants SES-0350646 and SES-0350613)\n",
      "##\n",
      "\n"
     ]
    }
   ],
   "source": [
    "library(MCMCpack)"
   ]
  },
  {
   "cell_type": "markdown",
   "id": "3a7605d4",
   "metadata": {},
   "source": [
    "To fit a linear regression model with noninformative prior for the regression parameters and an inverse gamma prior with shape and scale parameter both equal to 0.0005 for the error variance, we call the MCMCregress. "
   ]
  },
  {
   "cell_type": "code",
   "execution_count": 12,
   "id": "f6006b2d",
   "metadata": {},
   "outputs": [
    {
     "data": {
      "text/plain": [
       "\n",
       "Iterations = 1001:11000\n",
       "Thinning interval = 1 \n",
       "Number of chains = 1 \n",
       "Sample size per chain = 10000 \n",
       "\n",
       "1. Empirical mean and standard deviation for each variable,\n",
       "   plus standard error of the mean:\n",
       "\n",
       "               Mean      SD  Naive SE Time-series SE\n",
       "(Intercept) -6.8126 3.04021 0.0304021      0.0307719\n",
       "TRTB        10.1195 0.81085 0.0081085      0.0081085\n",
       "Age         -0.1726 0.06139 0.0006139      0.0006189\n",
       "sigma2       6.4835 1.60148 0.0160148      0.0173175\n",
       "\n",
       "2. Quantiles for each variable:\n",
       "\n",
       "                2.5%     25%    50%    75%    97.5%\n",
       "(Intercept) -12.7037 -8.8381 -6.823 -4.792 -0.79152\n",
       "TRTB          8.5432  9.5751 10.119 10.648 11.73873\n",
       "Age          -0.2954 -0.2131 -0.172 -0.132 -0.05422\n",
       "sigma2        4.0855  5.3289  6.225  7.329 10.23392\n"
      ]
     },
     "metadata": {},
     "output_type": "display_data"
    }
   ],
   "source": [
    "# fit the Bayes regression model with 1000 burn-in\n",
    "BayesMod <- MCMCregress(diff ~ TRT + Age, dat)\n",
    "summary(BayesMod)"
   ]
  },
  {
   "cell_type": "markdown",
   "id": "b39322bd",
   "metadata": {},
   "source": [
    "We can observe various quantities of interest such as the posterioir mean, standard deviation, and quantiles."
   ]
  },
  {
   "cell_type": "markdown",
   "id": "797b3964",
   "metadata": {},
   "source": [
    "__FIGURE 9.3__: MCMC Plots"
   ]
  },
  {
   "cell_type": "markdown",
   "id": "6cfb1673",
   "metadata": {},
   "source": [
    "This plots shows to generate etrace plots for convergence diagnostics and martinal posterior kernel densiy plots for the MCMC results."
   ]
  },
  {
   "cell_type": "code",
   "execution_count": 13,
   "id": "bbcc0e9f",
   "metadata": {},
   "outputs": [
    {
     "data": {
      "image/png": "[encoded data removed]",
      "text/plain": [
       "Plot with title \"Density of sigma2\""
      ]
     },
     "metadata": {
      "image/png": {
       "height": 420,
       "width": 420
      }
     },
     "output_type": "display_data"
    }
   ],
   "source": [
    "#make the maragin\n",
    "par(mar = c (3,2,1.5,1))\n",
    "\n",
    "#mate the MCMC plot\n",
    "plot(BayesMod)"
   ]
  },
  {
   "cell_type": "markdown",
   "id": "7a37b1de",
   "metadata": {},
   "source": [
    "#### 9.4.2 Binomial Data: Bayesian Logistic Regression"
   ]
  },
  {
   "cell_type": "code",
   "execution_count": 14,
   "id": "5f9e1f88",
   "metadata": {},
   "outputs": [],
   "source": [
    "betablocker <- read.csv('betablocker.csv', header=T)"
   ]
  },
  {
   "cell_type": "code",
   "execution_count": 15,
   "id": "27b4cd41",
   "metadata": {},
   "outputs": [
    {
     "data": {
      "text/html": [
       "<style>\n",
       ".list-inline {list-style: none; margin:0; padding: 0}\n",
       ".list-inline>li {display: inline-block}\n",
       ".list-inline>li:not(:last-child)::after {content: \"\\00b7\"; padding: 0 .5ex}\n",
       "</style>\n",
       "<ol class=list-inline><li>'Center'</li><li>'Deaths'</li><li>'Total'</li><li>'Treatment'</li></ol>\n"
      ],
      "text/latex": [
       "\\begin{enumerate*}\n",
       "\\item 'Center'\n",
       "\\item 'Deaths'\n",
       "\\item 'Total'\n",
       "\\item 'Treatment'\n",
       "\\end{enumerate*}\n"
      ],
      "text/markdown": [
       "1. 'Center'\n",
       "2. 'Deaths'\n",
       "3. 'Total'\n",
       "4. 'Treatment'\n",
       "\n",
       "\n"
      ],
      "text/plain": [
       "[1] \"Center\"    \"Deaths\"    \"Total\"     \"Treatment\""
      ]
     },
     "metadata": {},
     "output_type": "display_data"
    }
   ],
   "source": [
    "names(betablocker)"
   ]
  },
  {
   "cell_type": "code",
   "execution_count": 16,
   "id": "9cb54a90",
   "metadata": {
    "scrolled": true
   },
   "outputs": [
    {
     "data": {
      "text/html": [
       "<table class=\"dataframe\">\n",
       "<caption>A data.frame: 2 × 3</caption>\n",
       "<thead>\n",
       "\t<tr><th></th><th scope=col>Deaths</th><th scope=col>Total</th><th scope=col>Treatment</th></tr>\n",
       "\t<tr><th></th><th scope=col>&lt;int&gt;</th><th scope=col>&lt;int&gt;</th><th scope=col>&lt;chr&gt;</th></tr>\n",
       "</thead>\n",
       "<tbody>\n",
       "\t<tr><th scope=row>1</th><td>3</td><td>39</td><td>Control</td></tr>\n",
       "\t<tr><th scope=row>12</th><td>3</td><td>38</td><td>Treated</td></tr>\n",
       "</tbody>\n",
       "</table>\n"
      ],
      "text/latex": [
       "A data.frame: 2 × 3\n",
       "\\begin{tabular}{r|lll}\n",
       "  & Deaths & Total & Treatment\\\\\n",
       "  & <int> & <int> & <chr>\\\\\n",
       "\\hline\n",
       "\t1 & 3 & 39 & Control\\\\\n",
       "\t12 & 3 & 38 & Treated\\\\\n",
       "\\end{tabular}\n"
      ],
      "text/markdown": [
       "\n",
       "A data.frame: 2 × 3\n",
       "\n",
       "| <!--/--> | Deaths &lt;int&gt; | Total &lt;int&gt; | Treatment &lt;chr&gt; |\n",
       "|---|---|---|---|\n",
       "| 1 | 3 | 39 | Control |\n",
       "| 12 | 3 | 38 | Treated |\n",
       "\n"
      ],
      "text/plain": [
       "   Deaths Total Treatment\n",
       "1  3      39    Control  \n",
       "12 3      38    Treated  "
      ]
     },
     "metadata": {},
     "output_type": "display_data"
    }
   ],
   "source": [
    "# extract center 1\n",
    "beta1 = betablocker[betablocker$Center == 1, c(\"Deaths\",\"Total\",\"Treatment\")]\n",
    "\n",
    "# print the center 1 data\n",
    "beta1"
   ]
  },
  {
   "cell_type": "markdown",
   "id": "e7b39e8e",
   "metadata": {},
   "source": [
    "There are 3 deaths from 39 patients in the control group and 3 death from 38 patients in the treatment group. We convert these binomial count data into a data frame with biniary outcome."
   ]
  },
  {
   "cell_type": "markdown",
   "id": "effb8300",
   "metadata": {},
   "source": [
    "In the beta1 data frame, death(1) denotes deatn, death(0) denotes alive."
   ]
  },
  {
   "cell_type": "code",
   "execution_count": 17,
   "id": "1a3de1e6",
   "metadata": {
    "scrolled": true
   },
   "outputs": [
    {
     "data": {
      "text/html": [
       "<table class=\"dataframe\">\n",
       "<caption>A data.frame: 6 × 2</caption>\n",
       "<thead>\n",
       "\t<tr><th></th><th scope=col>trt</th><th scope=col>death</th></tr>\n",
       "\t<tr><th></th><th scope=col>&lt;chr&gt;</th><th scope=col>&lt;dbl&gt;</th></tr>\n",
       "</thead>\n",
       "<tbody>\n",
       "\t<tr><th scope=row>1</th><td>TRT</td><td>1</td></tr>\n",
       "\t<tr><th scope=row>2</th><td>TRT</td><td>1</td></tr>\n",
       "\t<tr><th scope=row>3</th><td>TRT</td><td>1</td></tr>\n",
       "\t<tr><th scope=row>4</th><td>TRT</td><td>0</td></tr>\n",
       "\t<tr><th scope=row>5</th><td>TRT</td><td>0</td></tr>\n",
       "\t<tr><th scope=row>6</th><td>TRT</td><td>0</td></tr>\n",
       "</tbody>\n",
       "</table>\n"
      ],
      "text/latex": [
       "A data.frame: 6 × 2\n",
       "\\begin{tabular}{r|ll}\n",
       "  & trt & death\\\\\n",
       "  & <chr> & <dbl>\\\\\n",
       "\\hline\n",
       "\t1 & TRT & 1\\\\\n",
       "\t2 & TRT & 1\\\\\n",
       "\t3 & TRT & 1\\\\\n",
       "\t4 & TRT & 0\\\\\n",
       "\t5 & TRT & 0\\\\\n",
       "\t6 & TRT & 0\\\\\n",
       "\\end{tabular}\n"
      ],
      "text/markdown": [
       "\n",
       "A data.frame: 6 × 2\n",
       "\n",
       "| <!--/--> | trt &lt;chr&gt; | death &lt;dbl&gt; |\n",
       "|---|---|---|\n",
       "| 1 | TRT | 1 |\n",
       "| 2 | TRT | 1 |\n",
       "| 3 | TRT | 1 |\n",
       "| 4 | TRT | 0 |\n",
       "| 5 | TRT | 0 |\n",
       "| 6 | TRT | 0 |\n",
       "\n"
      ],
      "text/plain": [
       "  trt death\n",
       "1 TRT 1    \n",
       "2 TRT 1    \n",
       "3 TRT 1    \n",
       "4 TRT 0    \n",
       "5 TRT 0    \n",
       "6 TRT 0    "
      ]
     },
     "metadata": {},
     "output_type": "display_data"
    }
   ],
   "source": [
    "# make a dataframe\n",
    "beta1 = data.frame(trt = c(rep(\"TRT\", 38),rep(\"Cont\",39)),\n",
    "death = c(rep(1,3), rep(0,38-3), rep(1,3), rep(0,39-3)))\n",
    "# print the first 6 observations\n",
    " head(beta1)"
   ]
  },
  {
   "cell_type": "markdown",
   "id": "d47fe402",
   "metadata": {},
   "source": [
    "__GLM Note__\n",
    "\n",
    "https://github.com/sshim4/Generalized-Linear-Models-and-Nonparametric-Regression/blob/main/W1.Binomial%20Regression.ipynb"
   ]
  },
  {
   "cell_type": "code",
   "execution_count": 18,
   "id": "5d8cdd8f",
   "metadata": {
    "scrolled": true
   },
   "outputs": [
    {
     "data": {
      "text/plain": [
       "\n",
       "Call:\n",
       "glm(formula = death ~ trt, family = binomial, data = beta1)\n",
       "\n",
       "Deviance Residuals: \n",
       "    Min       1Q   Median       3Q      Max  \n",
       "-0.4056  -0.4056  -0.4001  -0.4001   2.2649  \n",
       "\n",
       "Coefficients:\n",
       "            Estimate Std. Error z value Pr(>|z|)    \n",
       "(Intercept) -2.48491    0.60092  -4.135 3.55e-05 ***\n",
       "trtTRT       0.02817    0.85030   0.033    0.974    \n",
       "---\n",
       "Signif. codes:  0 '***' 0.001 '**' 0.01 '*' 0.05 '.' 0.1 ' ' 1\n",
       "\n",
       "(Dispersion parameter for binomial family taken to be 1)\n",
       "\n",
       "    Null deviance: 42.144  on 76  degrees of freedom\n",
       "Residual deviance: 42.143  on 75  degrees of freedom\n",
       "AIC: 46.143\n",
       "\n",
       "Number of Fisher Scoring iterations: 5\n"
      ]
     },
     "metadata": {},
     "output_type": "display_data"
    }
   ],
   "source": [
    "# fit logistic regression\n",
    "glm.beta = glm(death ~trt, family=binomial,data= beta1)\n",
    "# print the result\n",
    "summary(glm.beta)"
   ]
  },
  {
   "cell_type": "markdown",
   "id": "c642c02a",
   "metadata": {},
   "source": [
    "From the logistic regression, the treatment effect is not statistically significanat with p-value=0.974. But the result is expected with 3 of 39 patneits in the control group and 3 of 38 patients in treatment group died."
   ]
  },
  {
   "cell_type": "markdown",
   "id": "57cf91da",
   "metadata": {},
   "source": [
    "For Bayesian modeling using MCMC for binary data, we use MCMClogit function in MCMCpack. In this function, the model is as follow: \n",
    "    $y_i \\sim Bernouilli(p_i)$ with the logit link function as $p_i = \\frac{exp(x^\\prime_i\\beta)}{1+exp(x^\\prime_i\\beta)}$. The multivariate normal prior is assumed for $\\beta$ as $\\beta \\sim N(b_0, B^{-1}_0)$, where $B_0$ is the prior precision of $\\beta$ under a multivariate normal prior. The noninformative prior obtains if $B_0=0$. We now fit the Bayesian model using the noninformative prior distribution with the defaut setting using $B_0=0$."
   ]
  },
  {
   "cell_type": "code",
   "execution_count": 19,
   "id": "2df7edc7",
   "metadata": {
    "scrolled": true
   },
   "outputs": [
    {
     "data": {
      "text/plain": [
       "\n",
       "Iterations = 1001:11000\n",
       "Thinning interval = 1 \n",
       "Number of chains = 1 \n",
       "Sample size per chain = 10000 \n",
       "\n",
       "1. Empirical mean and standard deviation for each variable,\n",
       "   plus standard error of the mean:\n",
       "\n",
       "                Mean     SD Naive SE Time-series SE\n",
       "(Intercept) -2.65158 0.6516 0.006516        0.02067\n",
       "trtTRT       0.04217 0.9095 0.009095        0.02826\n",
       "\n",
       "2. Quantiles for each variable:\n",
       "\n",
       "              2.5%     25%      50%     75%  97.5%\n",
       "(Intercept) -4.103 -3.0425 -2.59693 -2.1935 -1.545\n",
       "trtTRT      -1.746 -0.5575  0.02502  0.6467  1.784\n"
      ]
     },
     "metadata": {},
     "output_type": "display_data"
    }
   ],
   "source": [
    "## Call MCMClogit with default\n",
    "Bayes1.beta = MCMClogit(death~trt, data=beta1)\n",
    "# print the summary for MCMC\n",
    "summary(Bayes1.beta)"
   ]
  },
  {
   "cell_type": "markdown",
   "id": "b048d6e0",
   "metadata": {},
   "source": [
    "The 95% credible interval for treatment effect is (-1.746, 1.784) which contains 0 so is not statistically significant."
   ]
  },
  {
   "cell_type": "markdown",
   "id": "7e2330f4",
   "metadata": {},
   "source": [
    "__FIGURE 9.4__: MCMC Plots for Betablocker"
   ]
  },
  {
   "cell_type": "code",
   "execution_count": 11,
   "id": "bfbc7300",
   "metadata": {},
   "outputs": [
    {
     "data": {
      "image/png": "[encoded data removed]",
      "text/plain": [
       "Plot with title \"Density of trtTRT\""
      ]
     },
     "metadata": {
      "image/png": {
       "height": 420,
       "width": 420
      }
     },
     "output_type": "display_data"
    }
   ],
   "source": [
    "plot(Bayes1.beta)"
   ]
  },
  {
   "cell_type": "markdown",
   "id": "c36e936d",
   "metadata": {},
   "source": [
    "To further illustrate Bayesian robustness, we consider a vague multivariate normal prior using $B_0=0.0001$."
   ]
  },
  {
   "cell_type": "code",
   "execution_count": 21,
   "id": "84143405",
   "metadata": {},
   "outputs": [
    {
     "data": {
      "text/plain": [
       "\n",
       "Iterations = 1001:11000\n",
       "Thinning interval = 1 \n",
       "Number of chains = 1 \n",
       "Sample size per chain = 10000 \n",
       "\n",
       "1. Empirical mean and standard deviation for each variable,\n",
       "   plus standard error of the mean:\n",
       "\n",
       "                Mean     SD Naive SE Time-series SE\n",
       "(Intercept) -2.65404 0.6532 0.006532        0.02076\n",
       "trtTRT       0.04366 0.9056 0.009056        0.02824\n",
       "\n",
       "2. Quantiles for each variable:\n",
       "\n",
       "              2.5%     25%      50%     75%  97.5%\n",
       "(Intercept) -4.114 -3.0437 -2.59442 -2.1970 -1.544\n",
       "trtTRT      -1.707 -0.5697  0.04557  0.6311  1.790\n"
      ]
     },
     "metadata": {},
     "output_type": "display_data"
    }
   ],
   "source": [
    "# Bayesian logistic regression with multivariate normal prior\n",
    "Bayes2.beta = MCMClogit(death~trt, B0=.001,data=beta1)\n",
    "# print the fit\n",
    "summary(Bayes2.beta)"
   ]
  },
  {
   "cell_type": "markdown",
   "id": "242639b0",
   "metadata": {},
   "source": [
    "Same result as Bayes1.beta"
   ]
  },
  {
   "cell_type": "code",
   "execution_count": 22,
   "id": "c7983a33",
   "metadata": {},
   "outputs": [
    {
     "data": {
      "image/png": "[encoded data removed]",
      "text/plain": [
       "Plot with title \"Density of trtTRT\""
      ]
     },
     "metadata": {
      "image/png": {
       "height": 420,
       "width": 420
      }
     },
     "output_type": "display_data"
    }
   ],
   "source": [
    "plot(Bayes2.beta)"
   ]
  },
  {
   "cell_type": "markdown",
   "id": "b943300b",
   "metadata": {},
   "source": [
    "#### 9.4.3 Count Data: Bayesian Poission Regression"
   ]
  },
  {
   "cell_type": "code",
   "execution_count": null,
   "id": "37e3db1b",
   "metadata": {},
   "outputs": [],
   "source": []
  }
 ],
 "metadata": {
  "kernelspec": {
   "display_name": "R",
   "language": "R",
   "name": "ir"
  },
  "language_info": {
   "codemirror_mode": "r",
   "file_extension": ".r",
   "mimetype": "text/x-r-source",
   "name": "R",
   "pygments_lexer": "r",
   "version": "4.1.3"
  }
 },
 "nbformat": 4,
 "nbformat_minor": 5
}
